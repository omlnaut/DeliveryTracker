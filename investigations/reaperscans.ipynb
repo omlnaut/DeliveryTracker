{
 "cells": [
  {
   "cell_type": "code",
   "execution_count": 12,
   "metadata": {},
   "outputs": [],
   "source": [
    "manga_ids = [\n",
    "    (\"Solo Leveling Ragnaroc\", 100),\n",
    "    (\"Level up with skills\", 158),\n",
    "    (\"Infinite Mage\", 116)\n",
    "]"
   ]
  },
  {
   "cell_type": "code",
   "execution_count": 13,
   "metadata": {},
   "outputs": [],
   "source": [
    "import requests\n",
    "from datetime import datetime\n",
    "\n",
    "def get_latest_update_date(series_id):\n",
    "    headers = {\n",
    "        \"accept\": \"application/json, text/plain, */*\",\n",
    "        \"accept-language\": \"de-DE,de;q=0.9,en-US;q=0.8,en-DE;q=0.7,en;q=0.6\",\n",
    "        \"dnt\": \"1\",\n",
    "        \"origin\": \"https://reaperscans.com\",\n",
    "        \"priority\": \"u=1, i\",\n",
    "        \"referer\": \"https://reaperscans.com/\",\n",
    "        \"sec-ch-ua\": \"\\\"Google Chrome\\\";v=\\\"131\\\", \\\"Chromium\\\";v=\\\"131\\\", \\\"Not_A Brand\\\";v=\\\"24\\\"\",\n",
    "        \"sec-ch-ua-mobile\": \"?0\",\n",
    "        \"sec-ch-ua-platform\": \"\\\"Windows\\\"\",\n",
    "        \"sec-fetch-dest\": \"empty\",\n",
    "        \"sec-fetch-mode\": \"cors\",\n",
    "        \"sec-fetch-site\": \"same-site\",\n",
    "        \"user-agent\": \"Mozilla/5.0 (Windows NT 10.0; Win64; x64) AppleWebKit/537.36 (KHTML, like Gecko) Chrome/131.0.0.0 Safari/537.36\"\n",
    "    }\n",
    "\n",
    "    response = requests.get(f\"https://api.reaperscans.com/chapter/query?page=1&perPage=30&query=&order=desc&series_id={series_id}\", headers=headers)\n",
    "    full_response = response.json()\n",
    "\n",
    "    date_string = full_response['data'][0]['created_at']\n",
    "    return datetime.strptime(date_string, '%Y-%m-%dT%H:%M:%S.%fZ').date()"
   ]
  },
  {
   "cell_type": "code",
   "execution_count": 14,
   "metadata": {},
   "outputs": [
    {
     "name": "stdout",
     "output_type": "stream",
     "text": [
      "Solo Leveling Ragnaroc: 2024-12-25\n",
      "Level up with skills: 2024-12-29\n",
      "Infinite Mage: 2024-12-29\n"
     ]
    }
   ],
   "source": [
    "for manga, manga_id in manga_ids:\n",
    "    latest_update = get_latest_update_date(manga_id)\n",
    "    print(f'{manga}: {latest_update}')"
   ]
  },
  {
   "cell_type": "code",
   "execution_count": null,
   "metadata": {},
   "outputs": [],
   "source": []
  }
 ],
 "metadata": {
  "kernelspec": {
   "display_name": "Python 3",
   "language": "python",
   "name": "python3"
  },
  "language_info": {
   "codemirror_mode": {
    "name": "ipython",
    "version": 3
   },
   "file_extension": ".py",
   "mimetype": "text/x-python",
   "name": "python",
   "nbconvert_exporter": "python",
   "pygments_lexer": "ipython3",
   "version": "3.11.11"
  }
 },
 "nbformat": 4,
 "nbformat_minor": 2
}

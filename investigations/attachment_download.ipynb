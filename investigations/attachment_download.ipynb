{
 "cells": [
  {
   "cell_type": "code",
   "execution_count": 1,
   "metadata": {},
   "outputs": [],
   "source": [
    "import sys\n",
    "import json\n",
    "from pathlib import Path\n",
    "from google.oauth2.credentials import Credentials\n",
    "\n",
    "root_dir = Path(\"/workspaces/DeliveryTracker\")\n",
    "\n",
    "sys.path.insert(0, str(root_dir))\n",
    "\n",
    "\n",
    "credential_json = json.load((root_dir / \"google_token/logged_in_credentials.json\").open())\n",
    "credentials = Credentials.from_authorized_user_info(credential_json)"
   ]
  },
  {
   "cell_type": "code",
   "execution_count": 2,
   "metadata": {},
   "outputs": [],
   "source": [
    "from shared.GoogleServices import GmailService"
   ]
  },
  {
   "cell_type": "code",
   "execution_count": 3,
   "metadata": {},
   "outputs": [],
   "source": [
    "gs = GmailService(credentials)\n",
    "gs.authenticate()"
   ]
  },
  {
   "cell_type": "code",
   "execution_count": 4,
   "metadata": {},
   "outputs": [],
   "source": [
    "from datetime import datetime, timedelta, timezone\n",
    "\n",
    "\n",
    "time_threshold = datetime.now(timezone.utc) - timedelta(days=100)\n",
    "query = f\"from:no-reply@winsim.de subject:'Ihre winSIM-Rechnung' after:{int(time_threshold.timestamp())}\"\n",
    "    \n",
    "    # 2. Use the Gmail API to find message IDs that match the query.\n",
    "response = gs.service.users().messages().list(userId='me', q=query).execute()\n",
    "messages = response.get('messages', [])"
   ]
  },
  {
   "cell_type": "code",
   "execution_count": 5,
   "metadata": {},
   "outputs": [
    {
     "data": {
      "text/plain": [
       "[{'id': '1945b4defe14256d', 'threadId': '1945b4defe14256d'},\n",
       " {'id': '193bb43a046d7385', 'threadId': '193bb43a046d7385'},\n",
       " {'id': '1932448bbe10738f', 'threadId': '1932448bbe10738f'}]"
      ]
     },
     "execution_count": 5,
     "metadata": {},
     "output_type": "execute_result"
    }
   ],
   "source": [
    "messages"
   ]
  },
  {
   "cell_type": "code",
   "execution_count": 6,
   "metadata": {},
   "outputs": [
    {
     "data": {
      "text/plain": [
       "['INVB790273815.pdf']"
      ]
     },
     "execution_count": 6,
     "metadata": {},
     "output_type": "execute_result"
    }
   ],
   "source": [
    "gs.download_pdf_attachments(messages[0]['id'])"
   ]
  },
  {
   "cell_type": "code",
   "execution_count": 7,
   "metadata": {},
   "outputs": [],
   "source": [
    "msg = messages[0]\n",
    "\n",
    "msg_detail = gs.service.users().messages().get(userId='me', id=msg['id'], format='full').execute()"
   ]
  },
  {
   "cell_type": "code",
   "execution_count": null,
   "metadata": {},
   "outputs": [],
   "source": [
    "parts = msg_detail['payload'].get('parts', [])\n",
    "parts"
   ]
  },
  {
   "cell_type": "code",
   "execution_count": 9,
   "metadata": {},
   "outputs": [
    {
     "name": "stdout",
     "output_type": "stream",
     "text": [
      "INVB790273815.pdf\n"
     ]
    }
   ],
   "source": [
    "for part in parts:\n",
    "    filename: str = part['filename']\n",
    "    if filename.endswith(\".pdf\"):\n",
    "        print(filename)\n",
    "        break"
   ]
  },
  {
   "cell_type": "code",
   "execution_count": 10,
   "metadata": {},
   "outputs": [],
   "source": [
    "attach_id = part['body']['attachmentId']\n",
    "\n",
    "attachment = gs.service.users().messages().attachments().get(\n",
    "            userId='me',\n",
    "            messageId=msg['id'],\n",
    "            id=attach_id\n",
    "        ).execute()"
   ]
  },
  {
   "cell_type": "code",
   "execution_count": 11,
   "metadata": {},
   "outputs": [],
   "source": [
    "import base64\n",
    "import os\n",
    "\n",
    "\n",
    "file_data = base64.urlsafe_b64decode(attachment['data'].encode('UTF-8'))\n",
    "filepath = \"testi_attachment.pdf\"\n",
    "with open(filepath, 'wb') as f:\n",
    "    f.write(file_data)"
   ]
  },
  {
   "cell_type": "code",
   "execution_count": null,
   "metadata": {},
   "outputs": [],
   "source": []
  }
 ],
 "metadata": {
  "kernelspec": {
   "display_name": "Python 3",
   "language": "python",
   "name": "python3"
  },
  "language_info": {
   "codemirror_mode": {
    "name": "ipython",
    "version": 3
   },
   "file_extension": ".py",
   "mimetype": "text/x-python",
   "name": "python",
   "nbconvert_exporter": "python",
   "pygments_lexer": "ipython3",
   "version": "3.11.11"
  }
 },
 "nbformat": 4,
 "nbformat_minor": 2
}

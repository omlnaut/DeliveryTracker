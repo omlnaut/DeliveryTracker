{
 "cells": [
  {
   "cell_type": "code",
   "execution_count": 13,
   "metadata": {},
   "outputs": [],
   "source": [
    "import sys\n",
    "import json\n",
    "from pathlib import Path\n",
    "from google.oauth2.credentials import Credentials\n",
    "\n",
    "root_dir = Path(\"/workspaces/DeliveryTracker\")\n",
    "\n",
    "sys.path.insert(0, str(root_dir))\n",
    "\n",
    "\n",
    "credential_json = json.load((root_dir / \"google_token/logged_in_credentials.json\").open())\n",
    "credentials = Credentials.from_authorized_user_info(credential_json)"
   ]
  },
  {
   "cell_type": "code",
   "execution_count": 14,
   "metadata": {},
   "outputs": [],
   "source": [
    "from shared.GoogleServices import GmailService"
   ]
  },
  {
   "cell_type": "code",
   "execution_count": 16,
   "metadata": {},
   "outputs": [],
   "source": [
    "gs = GmailService(credentials)\n",
    "gs.authenticate()"
   ]
  },
  {
   "cell_type": "code",
   "execution_count": 23,
   "metadata": {},
   "outputs": [],
   "source": [
    "from datetime import datetime, timedelta, timezone\n",
    "\n",
    "\n",
    "time_threshold = datetime.now(timezone.utc) - timedelta(days=7)\n",
    "query = f\"from:no-reply@winsim.de subject:'Ihre winSIM-Rechnung' after:{int(time_threshold.timestamp())}\"\n",
    "    \n",
    "    # 2. Use the Gmail API to find message IDs that match the query.\n",
    "response = gs.service.users().messages().list(userId='me', q=query).execute()\n",
    "messages = response.get('messages', [])"
   ]
  },
  {
   "cell_type": "code",
   "execution_count": 24,
   "metadata": {},
   "outputs": [
    {
     "data": {
      "text/plain": [
       "[{'id': '1945b4defe14256d', 'threadId': '1945b4defe14256d'}]"
      ]
     },
     "execution_count": 24,
     "metadata": {},
     "output_type": "execute_result"
    }
   ],
   "source": [
    "messages"
   ]
  },
  {
   "cell_type": "code",
   "execution_count": 26,
   "metadata": {},
   "outputs": [],
   "source": [
    "msg = messages[0]\n",
    "\n",
    "msg_detail = gs.service.users().messages().get(userId='me', id=msg['id'], format='full').execute()"
   ]
  },
  {
   "cell_type": "code",
   "execution_count": 28,
   "metadata": {},
   "outputs": [
    {
     "data": {
      "text/plain": [
       "[{'partId': '0',\n",
       "  'mimeType': 'text/html',\n",
       "  'filename': '',\n",
       "  'headers': [{'name': 'Content-Type',\n",
       "    'value': 'text/html; charset=\"ISO-8859-1\"'},\n",
       "   {'name': 'Content-Transfer-Encoding', 'value': 'quoted-printable'}],\n",
       "  'body': {'size': 7927,\n",
       "   'data': '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'}},\n",
       " {'partId': '1',\n",
       "  'mimeType': 'application/pdf',\n",
       "  'filename': 'INVB790273815.pdf',\n",
       "  'headers': [{'name': 'Content-Type',\n",
       "    'value': 'application/pdf; name=\"INVB790273815.pdf\"'},\n",
       "   {'name': 'Content-Transfer-Encoding', 'value': 'base64'},\n",
       "   {'name': 'Content-Disposition',\n",
       "    'value': 'attachment; filename=\"INVB790273815.pdf\"'}],\n",
       "  'body': {'attachmentId': 'ANGjdJ9y3OhccDInxZ5hKkcHWI8XbyNUpCTlQx1Oa1iQN_Q-ghKvdoBRulVGikJweiQYrBB7Bm-e6dx_L6XWFLfwWhEDrxoLkTzMQ89plGPo9SLC7lh1PMbNgFOatadVdgeX_aUNIBOSSYrXz-phOOXK6Y_V43nYjpRIRkq2EasWlpZ19LbTMrxZwhbQvwkltRMj9qUDfQ1Sk9W9XKvoVHsPYMuse17_y29EgVisRmorYvCyyCp9FOlKrGrHBboEvAP2K5ZMw7fjLYWU5gHw139Un17IGWVcRBzqW4ISPWqtcKtFrN1twh3HHLFOxly0MSiHIdy2zePmM4zamKahjbJMjn_6ihYuAorO2gcsnlDumDZwL0Phxt_q4Wc97IVfqAPeLxP8iwNgya4XJ9Eukl4fZ0EcXOM-Rh-HXr3nPQ',\n",
       "   'size': 10023}}]"
      ]
     },
     "execution_count": 28,
     "metadata": {},
     "output_type": "execute_result"
    }
   ],
   "source": [
    "parts = msg_detail['payload'].get('parts', [])\n",
    "parts"
   ]
  },
  {
   "cell_type": "code",
   "execution_count": 30,
   "metadata": {},
   "outputs": [
    {
     "name": "stdout",
     "output_type": "stream",
     "text": [
      "INVB790273815.pdf\n"
     ]
    }
   ],
   "source": [
    "for part in parts:\n",
    "    filename: str = part['filename']\n",
    "    if filename.endswith(\".pdf\"):\n",
    "        print(filename)\n",
    "        break"
   ]
  },
  {
   "cell_type": "code",
   "execution_count": 32,
   "metadata": {},
   "outputs": [],
   "source": [
    "attach_id = part['body']['attachmentId']\n",
    "\n",
    "attachment = gs.service.users().messages().attachments().get(\n",
    "            userId='me',\n",
    "            messageId=msg['id'],\n",
    "            id=attach_id\n",
    "        ).execute()"
   ]
  },
  {
   "cell_type": "code",
   "execution_count": 34,
   "metadata": {},
   "outputs": [],
   "source": [
    "import base64\n",
    "import os\n",
    "\n",
    "\n",
    "file_data = base64.urlsafe_b64decode(attachment['data'].encode('UTF-8'))\n",
    "filepath = \"testi_attachment.pdf\"\n",
    "with open(filepath, 'wb') as f:\n",
    "    f.write(file_data)"
   ]
  },
  {
   "cell_type": "code",
   "execution_count": null,
   "metadata": {},
   "outputs": [],
   "source": []
  }
 ],
 "metadata": {
  "kernelspec": {
   "display_name": "Python 3",
   "language": "python",
   "name": "python3"
  },
  "language_info": {
   "codemirror_mode": {
    "name": "ipython",
    "version": 3
   },
   "file_extension": ".py",
   "mimetype": "text/x-python",
   "name": "python",
   "nbconvert_exporter": "python",
   "pygments_lexer": "ipython3",
   "version": "3.11.11"
  }
 },
 "nbformat": 4,
 "nbformat_minor": 2
}

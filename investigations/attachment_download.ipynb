{
 "cells": [
  {
   "cell_type": "code",
   "execution_count": 13,
   "metadata": {},
   "outputs": [],
   "source": [
    "import sys\n",
    "import json\n",
    "from pathlib import Path\n",
    "from google.oauth2.credentials import Credentials\n",
    "\n",
    "root_dir = Path(\"/workspaces/DeliveryTracker\")\n",
    "\n",
    "sys.path.insert(0, str(root_dir))\n",
    "\n",
    "\n",
    "credential_json = json.load((root_dir / \"google_token/logged_in_credentials.json\").open())\n",
    "credentials = Credentials.from_authorized_user_info(credential_json)"
   ]
  },
  {
   "cell_type": "code",
   "execution_count": 14,
   "metadata": {},
   "outputs": [],
   "source": [
    "from shared.GoogleServices import GmailService"
   ]
  },
  {
   "cell_type": "code",
   "execution_count": 16,
   "metadata": {},
   "outputs": [],
   "source": [
    "gs = GmailService(credentials)\n",
    "gs.authenticate()"
   ]
  },
  {
   "cell_type": "code",
   "execution_count": 23,
   "metadata": {},
   "outputs": [],
   "source": [
    "from datetime import datetime, timedelta, timezone\n",
    "\n",
    "\n",
    "time_threshold = datetime.now(timezone.utc) - timedelta(days=7)\n",
    "query = f\"from:no-reply@winsim.de subject:'Ihre winSIM-Rechnung' after:{int(time_threshold.timestamp())}\"\n",
    "    \n",
    "    # 2. Use the Gmail API to find message IDs that match the query.\n",
    "response = gs.service.users().messages().list(userId='me', q=query).execute()\n",
    "messages = response.get('messages', [])"
   ]
  },
  {
   "cell_type": "code",
   "execution_count": 24,
   "metadata": {},
   "outputs": [
    {
     "data": {
      "text/plain": [
       "[{'id': '1945b4defe14256d', 'threadId': '1945b4defe14256d'}]"
      ]
     },
     "execution_count": 24,
     "metadata": {},
     "output_type": "execute_result"
    }
   ],
   "source": [
    "messages"
   ]
  },
  {
   "cell_type": "code",
   "execution_count": null,
   "metadata": {},
   "outputs": [],
   "source": []
  }
 ],
 "metadata": {
  "kernelspec": {
   "display_name": "Python 3",
   "language": "python",
   "name": "python3"
  },
  "language_info": {
   "codemirror_mode": {
    "name": "ipython",
    "version": 3
   },
   "file_extension": ".py",
   "mimetype": "text/x-python",
   "name": "python",
   "nbconvert_exporter": "python",
   "pygments_lexer": "ipython3",
   "version": "3.11.11"
  }
 },
 "nbformat": 4,
 "nbformat_minor": 2
}

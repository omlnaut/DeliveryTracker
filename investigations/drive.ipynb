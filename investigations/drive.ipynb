{
 "cells": [
  {
   "cell_type": "code",
   "execution_count": 1,
   "metadata": {},
   "outputs": [],
   "source": [
    "import sys\n",
    "sys.path.append(\"..\")\n",
    "\n",
    "from shared.GoogleServices.GoogleDriveService import GoogleDriveService"
   ]
  },
  {
   "cell_type": "code",
   "execution_count": 2,
   "metadata": {},
   "outputs": [],
   "source": [
    "from pathlib import Path\n",
    "import json\n",
    "from google.oauth2.credentials import Credentials\n",
    "\n",
    "credentials_info = json.load(Path(\"../google_token/logged_in_credentials.json\").open())\n",
    "credentials = Credentials.from_authorized_user_info(credentials_info)"
   ]
  },
  {
   "cell_type": "code",
   "execution_count": 3,
   "metadata": {},
   "outputs": [],
   "source": [
    "wrapper = GoogleDriveService(credentials)\n",
    "wrapper.authenticate()"
   ]
  },
  {
   "cell_type": "code",
   "execution_count": 4,
   "metadata": {},
   "outputs": [],
   "source": [
    "top_folder_id = \"19gdVV_DMtdQU0xi7TgfKJCRRc4c7m0fd\""
   ]
  },
  {
   "cell_type": "code",
   "execution_count": 5,
   "metadata": {},
   "outputs": [],
   "source": [
    "from io import BytesIO\n",
    "\n",
    "with open(\"testi_attachment.pdf\", \"rb\") as file:\n",
    "    pdf_bytes = BytesIO(file.read())"
   ]
  },
  {
   "cell_type": "code",
   "execution_count": 6,
   "metadata": {},
   "outputs": [
    {
     "data": {
      "text/plain": [
       "'1FyTEbPH2s2soN0MZPIkDKpox9jTf2Q0n'"
      ]
     },
     "execution_count": 6,
     "metadata": {},
     "output_type": "execute_result"
    }
   ],
   "source": [
    "wrapper.upload_file_directly(pdf_bytes, \"testi_attachment.pdf\", top_folder_id)"
   ]
  },
  {
   "cell_type": "code",
   "execution_count": null,
   "metadata": {},
   "outputs": [],
   "source": [
    "def find_or_create_folder(service, folder_name: str, parent_id: str) -> str:\n",
    "    \"\"\"\n",
    "    Given a folder name and a parent folder ID, check if a folder\n",
    "    with that name already exists under the parent. If it does not,\n",
    "    create it. Return the folder's ID.\n",
    "    \"\"\"\n",
    "    # 1. Search for an existing folder with this name under parent_id\n",
    "    query = (\n",
    "        f\"mimeType = 'application/vnd.google-apps.folder' \"\n",
    "        f\"and name = '{folder_name}' \"\n",
    "        f\"and '{parent_id}' in parents \"\n",
    "        f\"and trashed = false\"\n",
    "    )\n",
    "    \n",
    "    results = service.files().list(\n",
    "        q=query,\n",
    "        spaces='drive',\n",
    "        fields='files(id, name)',\n",
    "    ).execute()\n",
    "    \n",
    "    folders = results.get('files', [])\n",
    "    if len(folders) > 0:\n",
    "        # Folder already exists; just return its ID\n",
    "        return folders[0]['id']\n",
    "    \n",
    "    # 2. Create the folder if not found\n",
    "    folder_metadata = {\n",
    "        'name': folder_name,\n",
    "        'mimeType': 'application/vnd.google-apps.folder',\n",
    "        'parents': [parent_id]\n",
    "    }\n",
    "    folder = service.files().create(\n",
    "        body=folder_metadata,\n",
    "        fields='id'\n",
    "    ).execute()\n",
    "    \n",
    "    return folder.get('id')\n"
   ]
  },
  {
   "cell_type": "code",
   "execution_count": 11,
   "metadata": {},
   "outputs": [
    {
     "data": {
      "text/plain": [
       "'1NE6K4IChAQd5XlLMq5hz2BIxUmba2i0V'"
      ]
     },
     "execution_count": 11,
     "metadata": {},
     "output_type": "execute_result"
    }
   ],
   "source": [
    "testi_id = find_or_create_folder(wrapper.service, \"testi\", top_folder_id)\n",
    "testi_id"
   ]
  },
  {
   "cell_type": "code",
   "execution_count": 10,
   "metadata": {},
   "outputs": [],
   "source": [
    "def get_folder_id_by_path(service, root_folder_id: str, path: list[str]) -> str:\n",
    "    \"\"\"\n",
    "    Given a path like ['sub1', 'sub2', 'sub3'] (meaning sub1/sub2/sub3), walk through each subfolder\n",
    "    under root_folder_id. For each subfolder, find or create it.\n",
    "    Return the ID of the final subfolder.\n",
    "    \"\"\"\n",
    "    current_parent_id = root_folder_id\n",
    "    # Iterate through each folder name in the provided path\n",
    "    for folder_name in path:\n",
    "        current_parent_id = find_or_create_folder(service, folder_name, current_parent_id)\n",
    "    return current_parent_id\n"
   ]
  },
  {
   "cell_type": "code",
   "execution_count": 12,
   "metadata": {},
   "outputs": [
    {
     "data": {
      "text/plain": [
       "'1ggZztnffRcHmsa-iE4X3WLWksKTXBny3'"
      ]
     },
     "execution_count": 12,
     "metadata": {},
     "output_type": "execute_result"
    }
   ],
   "source": [
    "get_folder_id_by_path(wrapper.service, testi_id, [\"sub1\", \"sub2\", \"sub3\"])"
   ]
  },
  {
   "cell_type": "code",
   "execution_count": 13,
   "metadata": {},
   "outputs": [
    {
     "data": {
      "text/plain": [
       "'1GBVapr5ntarqsJ-1X_HrpLh7xxfRZ-Gw'"
      ]
     },
     "execution_count": 13,
     "metadata": {},
     "output_type": "execute_result"
    }
   ],
   "source": [
    "get_folder_id_by_path(wrapper.service, testi_id, [\"sub1\", \"sub2\"])"
   ]
  },
  {
   "cell_type": "code",
   "execution_count": null,
   "metadata": {},
   "outputs": [],
   "source": []
  }
 ],
 "metadata": {
  "kernelspec": {
   "display_name": "Python 3",
   "language": "python",
   "name": "python3"
  },
  "language_info": {
   "codemirror_mode": {
    "name": "ipython",
    "version": 3
   },
   "file_extension": ".py",
   "mimetype": "text/x-python",
   "name": "python",
   "nbconvert_exporter": "python",
   "pygments_lexer": "ipython3",
   "version": "3.11.12"
  }
 },
 "nbformat": 4,
 "nbformat_minor": 2
}

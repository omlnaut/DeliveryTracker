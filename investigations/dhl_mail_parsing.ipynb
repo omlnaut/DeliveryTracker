{
 "cells": [
  {
   "cell_type": "code",
   "execution_count": 4,
   "metadata": {},
   "outputs": [],
   "source": [
    "with open(\"dhl_test.html\", \"r\") as f:\n",
    "    html = f.read()"
   ]
  },
  {
   "cell_type": "code",
   "execution_count": 9,
   "metadata": {},
   "outputs": [],
   "source": [
    "import re\n",
    "from bs4 import BeautifulSoup\n",
    "\n",
    "def find_item(html):\n",
    "    soup = BeautifulSoup(html, \"html.parser\")\n",
    "\n",
    "    # Step 1: Find the <span> that contains the text \"ARTIKEL\"\n",
    "    artikel_span = soup.find(\"span\", class_=\"rio_15_grey\", string=re.compile(r\"\\bARTIKEL\\b\"))\n",
    "    if not artikel_span:\n",
    "        return \"Unknown item\"\n",
    "\n",
    "    # Step 2: Get the parent <tr> that holds this <span>\n",
    "    artikel_tr = artikel_span.find_parent(\"tr\")\n",
    "    if not artikel_tr:\n",
    "        return \"Unknown item\"\n",
    "\n",
    "    # Step 3: Get the next <tr> sibling\n",
    "    next_tr = artikel_tr.find_next_sibling(\"tr\")\n",
    "    if not next_tr:\n",
    "        return \"Unknown item\"\n",
    "\n",
    "    # OPTIONAL: If you only want a specific <span> inside the next <tr>\n",
    "    # that might hold the item name, e.g. <span class=\"rio_15_heavy_black\"> Reorda&reg; Metallband...</span>:\n",
    "    item_span = next_tr.find(\"span\", class_=\"rio_15_heavy_black\")\n",
    "    if item_span:\n",
    "        # decode_contents(formatter=\"html\") preserves &reg; instead of converting it to ®\n",
    "        item_text = item_span.decode_contents(formatter=\"html\").strip()\n",
    "        return item_text\n",
    "\n",
    "    return \"Unknown item\"\n"
   ]
  },
  {
   "cell_type": "code",
   "execution_count": 10,
   "metadata": {},
   "outputs": [
    {
     "data": {
      "text/plain": [
       "'Reorda&reg; Metallband...'"
      ]
     },
     "execution_count": 10,
     "metadata": {},
     "output_type": "execute_result"
    }
   ],
   "source": [
    "find_item(html)"
   ]
  },
  {
   "cell_type": "code",
   "execution_count": null,
   "metadata": {},
   "outputs": [],
   "source": []
  }
 ],
 "metadata": {
  "kernelspec": {
   "display_name": "Python 3",
   "language": "python",
   "name": "python3"
  },
  "language_info": {
   "codemirror_mode": {
    "name": "ipython",
    "version": 3
   },
   "file_extension": ".py",
   "mimetype": "text/x-python",
   "name": "python",
   "nbconvert_exporter": "python",
   "pygments_lexer": "ipython3",
   "version": "3.11.11"
  }
 },
 "nbformat": 4,
 "nbformat_minor": 2
}

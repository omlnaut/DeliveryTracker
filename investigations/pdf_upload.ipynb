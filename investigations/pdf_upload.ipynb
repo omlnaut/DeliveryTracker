{
 "cells": [
  {
   "cell_type": "code",
   "execution_count": 1,
   "metadata": {},
   "outputs": [],
   "source": [
    "drive_folder_id = \"1VGX5Wt8D3huZm3vVemjI3C6zz6W38PJr\""
   ]
  },
  {
   "cell_type": "code",
   "execution_count": 2,
   "metadata": {},
   "outputs": [],
   "source": [
    "import json\n",
    "from pathlib import Path\n",
    "import sys\n",
    "from googleapiclient.discovery import build\n",
    "from google.oauth2.credentials import Credentials\n",
    "\n",
    "root_dir = Path(\"/workspaces/DeliveryTracker\")\n",
    "sys.path.insert(0, str(root_dir))\n",
    "\n",
    "from shared.GoogleServices import GDriveService\n",
    "\n",
    "credential_json = json.load((root_dir / \"google_token/logged_in_credentials.json\").open())\n",
    "credentials = Credentials.from_authorized_user_info(credential_json)\n"
   ]
  },
  {
   "cell_type": "code",
   "execution_count": 4,
   "metadata": {},
   "outputs": [],
   "source": [
    "ds = GDriveService(credentials)"
   ]
  },
  {
   "cell_type": "code",
   "execution_count": 5,
   "metadata": {},
   "outputs": [
    {
     "data": {
      "text/plain": [
       "'1dfHEteTU3j-OPn2r7l_HX_cfdYj9H-2W'"
      ]
     },
     "execution_count": 5,
     "metadata": {},
     "output_type": "execute_result"
    }
   ],
   "source": [
    "file_path = \"/workspaces/DeliveryTracker/investigations/testi_attachment.pdf\"\n",
    "ds.upload_file(file_path, drive_folder_id)"
   ]
  },
  {
   "cell_type": "code",
   "execution_count": null,
   "metadata": {},
   "outputs": [],
   "source": [
    "\n",
    "service = build('drive', 'v3', credentials=credentials)"
   ]
  },
  {
   "cell_type": "code",
   "execution_count": 7,
   "metadata": {},
   "outputs": [],
   "source": [
    "import os\n",
    "from googleapiclient.http import MediaFileUpload\n",
    "\n",
    "file_path = \"/workspaces/DeliveryTracker/investigations/testi_attachment.pdf\"\n",
    "file_name = os.path.basename(file_path)\n",
    "\n",
    "file_metadata = {\n",
    "    'name': file_name,\n",
    "    'parents': [drive_folder_id]\n",
    "}\n",
    "media = MediaFileUpload(file_path, mimetype='application/pdf')\n",
    "\n",
    "uploaded_file = service.files().create(\n",
    "    body=file_metadata,\n",
    "    media_body=media,\n",
    "    fields='id'\n",
    ").execute()"
   ]
  },
  {
   "cell_type": "code",
   "execution_count": null,
   "metadata": {},
   "outputs": [],
   "source": []
  }
 ],
 "metadata": {
  "kernelspec": {
   "display_name": "Python 3",
   "language": "python",
   "name": "python3"
  },
  "language_info": {
   "codemirror_mode": {
    "name": "ipython",
    "version": 3
   },
   "file_extension": ".py",
   "mimetype": "text/x-python",
   "name": "python",
   "nbconvert_exporter": "python",
   "pygments_lexer": "ipython3",
   "version": "3.11.11"
  }
 },
 "nbformat": 4,
 "nbformat_minor": 2
}

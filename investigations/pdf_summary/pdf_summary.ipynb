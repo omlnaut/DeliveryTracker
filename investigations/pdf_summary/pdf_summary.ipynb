{
 "cells": [
  {
   "cell_type": "code",
   "execution_count": 10,
   "id": "4ceb1c0f",
   "metadata": {},
   "outputs": [],
   "source": [
    "from PyPDF2 import PdfReader"
   ]
  },
  {
   "cell_type": "code",
   "execution_count": 11,
   "id": "b1e3588a",
   "metadata": {},
   "outputs": [],
   "source": [
    "doc = PdfReader(\"testi_for_summary.pdf\")"
   ]
  },
  {
   "cell_type": "code",
   "execution_count": null,
   "id": "3ac8eb06",
   "metadata": {},
   "outputs": [],
   "source": [
    "doc.pages[0].extract_text()"
   ]
  },
  {
   "cell_type": "code",
   "execution_count": 26,
   "id": "b87205ba",
   "metadata": {},
   "outputs": [],
   "source": [
    "def read_pages(path: str) -> list[str]:\n",
    "    \"\"\"Read all pages of a PDF file and return their text content.\"\"\"\n",
    "    reader = PdfReader(path)\n",
    "    pages_text = []\n",
    "    for page in reader.pages:\n",
    "        text = page.extract_text()\n",
    "        if text:\n",
    "            pages_text.append(text)\n",
    "    return pages_text"
   ]
  },
  {
   "cell_type": "code",
   "execution_count": 43,
   "id": "08c8ebef",
   "metadata": {},
   "outputs": [],
   "source": [
    "files = [\"merge_test_1.pdf\", \"merge_test_2.pdf\"]\n",
    "\n",
    "pages = sum((read_pages(file) for file in files), start=[])\n",
    "pages = pages[1:] + pages[:1]  # Rotate pages\n",
    "\n",
    "all_pages = [f\"--- Page {i} ---\\n{page}\" for i, page in enumerate(pages)]\n"
   ]
  },
  {
   "cell_type": "code",
   "execution_count": 46,
   "id": "6707c8d1",
   "metadata": {},
   "outputs": [],
   "source": [
    "page_strings = \"\\n\\n\".join(all_pages)"
   ]
  },
  {
   "cell_type": "markdown",
   "id": "3446fa20",
   "metadata": {},
   "source": [
    "# Working prompts\n",
    "\n",
    "## Filename generation only:\n",
    "> You are my virtual secretary. I want you to categorize scanned pdf files. Give each file a short but meaningful name. The files will be stored in GoogleDrive, i want it to be easy to search for files i need via the builtin search function.\n",
    ">\n",
    "> Guidelines:\n",
    "> - When using dates in the filename, use the YYYY-MM-DD format, but only include the date parts that are important for that particular file. i.e. for a monthly paycheck, the DD is not relevant\n",
    "> - Only the filename, nothing else\n",
    ">\n",
    "> Text content of the file:\n",
    "\n",
    "## Filenames and page merging+sorting (needs to be merged with the above prompt)\n",
    "> Now i'm giving you the text content of multiple pdf pages. i want to know which of these pages belong to the same document.\n",
    "> \n",
    "> Guidelines:\n",
    "> - reply in valid json format like {\"filename1\": [3,7], \"filename2\": [1], ...}. The numbers in the list should refer to the page number as it is given in the string below.\n",
    "> - pages are delimited by \\n\\n--- Page [page number here] ---\n",
    "> - for pages that belong to the same document: pages might be scrambled from their original order. return the correct order as they would have appeared in the original document\n",
    "> \n",
    "> Page Contents:"
   ]
  },
  {
   "cell_type": "markdown",
   "id": "7ef577ac",
   "metadata": {},
   "source": []
  },
  {
   "cell_type": "markdown",
   "id": "98d4ee01",
   "metadata": {},
   "source": []
  }
 ],
 "metadata": {
  "kernelspec": {
   "display_name": "Python 3",
   "language": "python",
   "name": "python3"
  },
  "language_info": {
   "codemirror_mode": {
    "name": "ipython",
    "version": 3
   },
   "file_extension": ".py",
   "mimetype": "text/x-python",
   "name": "python",
   "nbconvert_exporter": "python",
   "pygments_lexer": "ipython3",
   "version": "3.11.11"
  }
 },
 "nbformat": 4,
 "nbformat_minor": 5
}

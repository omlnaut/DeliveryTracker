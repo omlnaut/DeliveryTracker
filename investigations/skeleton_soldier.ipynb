{
 "cells": [
  {
   "cell_type": "code",
   "execution_count": 2,
   "metadata": {},
   "outputs": [],
   "source": [
    "%load_ext autoreload\n",
    "%autoreload 2"
   ]
  },
  {
   "cell_type": "code",
   "execution_count": 3,
   "metadata": {},
   "outputs": [],
   "source": [
    "from common import *\n",
    "\n",
    "add_workspace_to_path()\n",
    "\n",
    "from shared.AzureHelper.secrets import get_secret"
   ]
  },
  {
   "cell_type": "code",
   "execution_count": 6,
   "metadata": {},
   "outputs": [],
   "source": [
    "import json\n",
    "\n",
    "reddit_credentials = json.loads(get_secret(\"RedditTrackerApp\"))"
   ]
  },
  {
   "cell_type": "code",
   "execution_count": null,
   "metadata": {},
   "outputs": [
    {
     "name": "stdout",
     "output_type": "stream",
     "text": [
      "Is the current story arc filler?\n",
      "Skelly not growing up\n",
      "Best Place to Read SS?\n",
      "Chapter 334\n",
      "Chapter 333 korean\n",
      "Changing names, visuals, and gender\n",
      "SSCPTD - Six Character Fanarts\n",
      "Chapter 332\n",
      "Skeleton soldier contemplates life\n",
      "😱😱😱😱\n",
      "Sun-jin-woo?\n",
      "What a beauty\n",
      "I need to know this\n",
      "T&amp;T are just a bunch of furry frauds.\n",
      "Anyone know who it is?\n",
      "AT&amp;T ads.\n",
      "One of the worse way to die 💀\n",
      "Skeleton soldier\n",
      "Decided to start reading again from the beginning, and all the pain came rushing back.\n",
      "Bro, why can’t continue reading this? This used to be one of the peak manhwa I’ve ever read, but now I just can’t get myself into it.\n",
      "Which chapter was it I forgot\n",
      "Shit is too sad\n",
      "Chapter 331\n",
      "Could someone tell me what happens to Leandro after chapter 330?\n",
      "Bro… (Chapter 330 Spoiler)\n"
     ]
    }
   ],
   "source": [
    "import requests\n",
    "from requests.auth import HTTPBasicAuth\n",
    "\n",
    "CLIENT_ID = reddit_credentials['client_id']\n",
    "CLIENT_SECRET = reddit_credentials['client_secret']\n",
    "USERNAME = reddit_credentials['username']\n",
    "PASSWORD = reddit_credentials['password']\n",
    "USER_AGENT = f'MyApp/0.0.1 by {USERNAME}'\n",
    "\n",
    "# Step 1: Get an OAuth token\n",
    "auth = HTTPBasicAuth(CLIENT_ID, CLIENT_SECRET)\n",
    "data = {\n",
    "    'grant_type': 'password',\n",
    "    'username': USERNAME,\n",
    "    'password': PASSWORD\n",
    "}\n",
    "headers = {'User-Agent': USER_AGENT}\n",
    "\n",
    "res = requests.post('https://www.reddit.com/api/v1/access_token',\n",
    "                    auth=auth, data=data, headers=headers)\n",
    "res.raise_for_status()\n",
    "TOKEN = res.json()['access_token']\n",
    "\n",
    "# Step 2: Use the token to access subreddit posts\n",
    "headers = {\n",
    "    'Authorization': f'bearer {TOKEN}',\n",
    "    'User-Agent': USER_AGENT\n",
    "}\n",
    "subreddit = 'SkeletonSoldier'\n",
    "url = f'https://oauth.reddit.com/r/{subreddit}/new'\n",
    "\n",
    "response = requests.get(url, headers=headers)\n",
    "response.raise_for_status()\n",
    "\n",
    "# for post in response.json()['data']['children']:\n",
    "#     print(post['data']['title'])\n",
    "\n",
    "with open('reddit_response.json', 'w') as f:\n",
    "    json.dump(response.json(), f, indent=2)\n"
   ]
  },
  {
   "cell_type": "code",
   "execution_count": 5,
   "metadata": {},
   "outputs": [
    {
     "data": {
      "text/plain": [
       "{'kind': 't3',\n",
       " 'data': {'approved_at_utc': None,\n",
       "  'subreddit': 'SkeletonSoldier',\n",
       "  'selftext': \"Title. It feels like nothing of import is happening and I'm wasting my time.\\n \\n\\nI'd rather watch all the discount Z fighters make their way to Namek.\",\n",
       "  'author_fullname': 't2_shge3fdk',\n",
       "  'saved': False,\n",
       "  'mod_reason_title': None,\n",
       "  'gilded': 0,\n",
       "  'clicked': False,\n",
       "  'title': 'Is the current story arc filler?',\n",
       "  'link_flair_richtext': [],\n",
       "  'subreddit_name_prefixed': 'r/SkeletonSoldier',\n",
       "  'hidden': False,\n",
       "  'pwls': 6,\n",
       "  'link_flair_css_class': '',\n",
       "  'downs': 0,\n",
       "  'thumbnail_height': None,\n",
       "  'top_awarded_type': None,\n",
       "  'hide_score': False,\n",
       "  'name': 't3_1lbu3k0',\n",
       "  'quarantine': False,\n",
       "  'link_flair_text_color': 'dark',\n",
       "  'upvote_ratio': 0.83,\n",
       "  'author_flair_background_color': None,\n",
       "  'subreddit_type': 'public',\n",
       "  'ups': 4,\n",
       "  'total_awards_received': 0,\n",
       "  'media_embed': {},\n",
       "  'thumbnail_width': None,\n",
       "  'author_flair_template_id': None,\n",
       "  'is_original_content': False,\n",
       "  'user_reports': [],\n",
       "  'secure_media': None,\n",
       "  'is_reddit_media_domain': False,\n",
       "  'is_meta': False,\n",
       "  'category': None,\n",
       "  'secure_media_embed': {},\n",
       "  'link_flair_text': 'New Chapter',\n",
       "  'can_mod_post': False,\n",
       "  'score': 4,\n",
       "  'approved_by': None,\n",
       "  'is_created_from_ads_ui': False,\n",
       "  'author_premium': False,\n",
       "  'thumbnail': 'self',\n",
       "  'edited': False,\n",
       "  'author_flair_css_class': None,\n",
       "  'author_flair_richtext': [],\n",
       "  'gildings': {},\n",
       "  'content_categories': None,\n",
       "  'is_self': True,\n",
       "  'mod_note': None,\n",
       "  'created': 1749970759.0,\n",
       "  'link_flair_type': 'text',\n",
       "  'wls': 6,\n",
       "  'removed_by_category': None,\n",
       "  'banned_by': None,\n",
       "  'author_flair_type': 'text',\n",
       "  'domain': 'self.SkeletonSoldier',\n",
       "  'allow_live_comments': False,\n",
       "  'selftext_html': '&lt;!-- SC_OFF --&gt;&lt;div class=\"md\"&gt;&lt;p&gt;Title. It feels like nothing of import is happening and I&amp;#39;m wasting my time.&lt;/p&gt;\\n\\n&lt;p&gt;I&amp;#39;d rather watch all the discount Z fighters make their way to Namek.&lt;/p&gt;\\n&lt;/div&gt;&lt;!-- SC_ON --&gt;',\n",
       "  'likes': None,\n",
       "  'suggested_sort': None,\n",
       "  'banned_at_utc': None,\n",
       "  'view_count': None,\n",
       "  'archived': False,\n",
       "  'no_follow': False,\n",
       "  'is_crosspostable': False,\n",
       "  'pinned': False,\n",
       "  'over_18': False,\n",
       "  'all_awardings': [],\n",
       "  'awarders': [],\n",
       "  'media_only': False,\n",
       "  'link_flair_template_id': 'f6893d4c-7255-11eb-9f5c-0e11ab468267',\n",
       "  'can_gild': False,\n",
       "  'spoiler': False,\n",
       "  'locked': False,\n",
       "  'author_flair_text': None,\n",
       "  'treatment_tags': [],\n",
       "  'visited': False,\n",
       "  'removed_by': None,\n",
       "  'num_reports': None,\n",
       "  'distinguished': None,\n",
       "  'subreddit_id': 't5_m0sn3',\n",
       "  'author_is_blocked': False,\n",
       "  'mod_reason_by': None,\n",
       "  'removal_reason': None,\n",
       "  'link_flair_background_color': '',\n",
       "  'id': '1lbu3k0',\n",
       "  'is_robot_indexable': True,\n",
       "  'report_reasons': None,\n",
       "  'author': 'Im_Steel_Assassin',\n",
       "  'discussion_type': None,\n",
       "  'num_comments': 4,\n",
       "  'send_replies': True,\n",
       "  'contest_mode': False,\n",
       "  'mod_reports': [],\n",
       "  'author_patreon_flair': False,\n",
       "  'author_flair_text_color': None,\n",
       "  'permalink': '/r/SkeletonSoldier/comments/1lbu3k0/is_the_current_story_arc_filler/',\n",
       "  'stickied': False,\n",
       "  'url': 'https://www.reddit.com/r/SkeletonSoldier/comments/1lbu3k0/is_the_current_story_arc_filler/',\n",
       "  'subreddit_subscribers': 9207,\n",
       "  'created_utc': 1749970759.0,\n",
       "  'num_crossposts': 0,\n",
       "  'media': None,\n",
       "  'is_video': False}}"
      ]
     },
     "execution_count": 5,
     "metadata": {},
     "output_type": "execute_result"
    }
   ],
   "source": [
    "child = html['data']['children'][0]\n",
    "child"
   ]
  },
  {
   "cell_type": "code",
   "execution_count": 6,
   "metadata": {},
   "outputs": [
    {
     "data": {
      "text/plain": [
       "1749970759.0"
      ]
     },
     "execution_count": 6,
     "metadata": {},
     "output_type": "execute_result"
    }
   ],
   "source": [
    "child['data']['created_utc']"
   ]
  },
  {
   "cell_type": "code",
   "execution_count": 7,
   "metadata": {},
   "outputs": [
    {
     "name": "stdout",
     "output_type": "stream",
     "text": [
      "2025-06-15 06:59:19+00:00 - Is the current story arc filler?\n",
      "2025-06-10 14:03:38+00:00 - Chapter 334\n",
      "2025-05-27 14:56:09+00:00 - Chapter 332\n"
     ]
    }
   ],
   "source": [
    "from datetime import datetime, timezone\n",
    "\n",
    "\n",
    "for child in html['data']['children']:\n",
    "    data = child['data']\n",
    "    created_datetime = datetime.fromtimestamp(data['created_utc'], timezone.utc)\n",
    "    flair = data['link_flair_text']\n",
    "    title = data['title']\n",
    "\n",
    "    if flair is not None and flair.lower() == 'new chapter':\n",
    "        print(f\"{created_datetime} - {title}\")"
   ]
  },
  {
   "cell_type": "code",
   "execution_count": null,
   "metadata": {},
   "outputs": [],
   "source": []
  }
 ],
 "metadata": {
  "kernelspec": {
   "display_name": "Python 3",
   "language": "python",
   "name": "python3"
  },
  "language_info": {
   "codemirror_mode": {
    "name": "ipython",
    "version": 3
   },
   "file_extension": ".py",
   "mimetype": "text/x-python",
   "name": "python",
   "nbconvert_exporter": "python",
   "pygments_lexer": "ipython3",
   "version": "3.11.11"
  }
 },
 "nbformat": 4,
 "nbformat_minor": 2
}

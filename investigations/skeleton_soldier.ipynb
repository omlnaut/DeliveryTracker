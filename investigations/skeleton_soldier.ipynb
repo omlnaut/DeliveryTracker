{
 "cells": [
  {
   "cell_type": "code",
   "execution_count": 1,
   "metadata": {},
   "outputs": [],
   "source": [
    "import requests"
   ]
  },
  {
   "cell_type": "code",
   "execution_count": null,
   "metadata": {},
   "outputs": [],
   "source": [
    "url = \"https://www.reddit.com/r/SkeletonSoldier/new.json\"\n",
    "\n",
    "html = requests.get(url).text"
   ]
  },
  {
   "cell_type": "code",
   "execution_count": 11,
   "metadata": {},
   "outputs": [
    {
     "data": {
      "text/plain": [
       "{'kind': 't3',\n",
       " 'data': {'approved_at_utc': None,\n",
       "  'subreddit': 'SkeletonSoldier',\n",
       "  'selftext': '',\n",
       "  'author_fullname': 't2_47mes3x2',\n",
       "  'saved': False,\n",
       "  'mod_reason_title': None,\n",
       "  'gilded': 0,\n",
       "  'clicked': False,\n",
       "  'title': 'Chapter 334',\n",
       "  'link_flair_richtext': [],\n",
       "  'subreddit_name_prefixed': 'r/SkeletonSoldier',\n",
       "  'hidden': False,\n",
       "  'pwls': 6,\n",
       "  'link_flair_css_class': '',\n",
       "  'downs': 0,\n",
       "  'thumbnail_height': 140,\n",
       "  'top_awarded_type': None,\n",
       "  'hide_score': False,\n",
       "  'name': 't3_1l7zk48',\n",
       "  'quarantine': False,\n",
       "  'link_flair_text_color': 'dark',\n",
       "  'upvote_ratio': 0.93,\n",
       "  'author_flair_background_color': None,\n",
       "  'ups': 12,\n",
       "  'total_awards_received': 0,\n",
       "  'media_embed': {},\n",
       "  'thumbnail_width': 140,\n",
       "  'author_flair_template_id': None,\n",
       "  'is_original_content': False,\n",
       "  'user_reports': [],\n",
       "  'secure_media': None,\n",
       "  'is_reddit_media_domain': True,\n",
       "  'is_meta': False,\n",
       "  'category': None,\n",
       "  'secure_media_embed': {},\n",
       "  'link_flair_text': 'New Chapter',\n",
       "  'can_mod_post': False,\n",
       "  'score': 12,\n",
       "  'approved_by': None,\n",
       "  'is_created_from_ads_ui': False,\n",
       "  'author_premium': False,\n",
       "  'thumbnail': 'https://b.thumbs.redditmedia.com/CZyioGTiatH-ZgTVoU5U_uTD8AP60I2OZvzP6QJjMuU.jpg',\n",
       "  'edited': False,\n",
       "  'author_flair_css_class': None,\n",
       "  'author_flair_richtext': [],\n",
       "  'gildings': {},\n",
       "  'post_hint': 'image',\n",
       "  'content_categories': None,\n",
       "  'is_self': False,\n",
       "  'subreddit_type': 'public',\n",
       "  'created': 1749564218.0,\n",
       "  'link_flair_type': 'text',\n",
       "  'wls': 6,\n",
       "  'removed_by_category': None,\n",
       "  'banned_by': None,\n",
       "  'author_flair_type': 'text',\n",
       "  'domain': 'i.redd.it',\n",
       "  'allow_live_comments': False,\n",
       "  'selftext_html': None,\n",
       "  'likes': None,\n",
       "  'suggested_sort': None,\n",
       "  'banned_at_utc': None,\n",
       "  'url_overridden_by_dest': 'https://i.redd.it/yi6fnz6ow36f1.png',\n",
       "  'view_count': None,\n",
       "  'archived': False,\n",
       "  'no_follow': False,\n",
       "  'is_crosspostable': False,\n",
       "  'pinned': False,\n",
       "  'over_18': False,\n",
       "  'preview': {'images': [{'source': {'url': 'https://preview.redd.it/yi6fnz6ow36f1.png?auto=webp&amp;s=4bba37b114aac59f0ca84d9cebc15e1cfdd469a8',\n",
       "      'width': 1080,\n",
       "      'height': 2185},\n",
       "     'resolutions': [{'url': 'https://preview.redd.it/yi6fnz6ow36f1.png?width=108&amp;crop=smart&amp;auto=webp&amp;s=6eca9a088789d6efeb03cb6b2c5adbb4bfedaa00',\n",
       "       'width': 108,\n",
       "       'height': 216},\n",
       "      {'url': 'https://preview.redd.it/yi6fnz6ow36f1.png?width=216&amp;crop=smart&amp;auto=webp&amp;s=c7f29fac2b4c25b9cb3060a8b48e87a5b6d331b2',\n",
       "       'width': 216,\n",
       "       'height': 432},\n",
       "      {'url': 'https://preview.redd.it/yi6fnz6ow36f1.png?width=320&amp;crop=smart&amp;auto=webp&amp;s=0e6699f94920b66139b03986195acc6fe1cdb1c3',\n",
       "       'width': 320,\n",
       "       'height': 640},\n",
       "      {'url': 'https://preview.redd.it/yi6fnz6ow36f1.png?width=640&amp;crop=smart&amp;auto=webp&amp;s=3444cf1f57f39a0f6c07b1081cdddd5125c7c0e7',\n",
       "       'width': 640,\n",
       "       'height': 1280},\n",
       "      {'url': 'https://preview.redd.it/yi6fnz6ow36f1.png?width=960&amp;crop=smart&amp;auto=webp&amp;s=2c1cc36b3889fa7360865827c01fa014b93a3574',\n",
       "       'width': 960,\n",
       "       'height': 1920},\n",
       "      {'url': 'https://preview.redd.it/yi6fnz6ow36f1.png?width=1080&amp;crop=smart&amp;auto=webp&amp;s=4c00cd2c82645fc4ce2f867c95b1001e70e3ac55',\n",
       "       'width': 1080,\n",
       "       'height': 2160}],\n",
       "     'variants': {},\n",
       "     'id': 'mP3BBCSeIp24lEID1AK01ooJPQAgntC4ZCdwJFbOUmQ'}],\n",
       "   'enabled': True},\n",
       "  'all_awardings': [],\n",
       "  'awarders': [],\n",
       "  'media_only': False,\n",
       "  'link_flair_template_id': 'f6893d4c-7255-11eb-9f5c-0e11ab468267',\n",
       "  'can_gild': False,\n",
       "  'spoiler': False,\n",
       "  'locked': False,\n",
       "  'author_flair_text': None,\n",
       "  'treatment_tags': [],\n",
       "  'visited': False,\n",
       "  'removed_by': None,\n",
       "  'mod_note': None,\n",
       "  'distinguished': None,\n",
       "  'subreddit_id': 't5_m0sn3',\n",
       "  'author_is_blocked': False,\n",
       "  'mod_reason_by': None,\n",
       "  'num_reports': None,\n",
       "  'removal_reason': None,\n",
       "  'link_flair_background_color': '',\n",
       "  'id': '1l7zk48',\n",
       "  'is_robot_indexable': True,\n",
       "  'report_reasons': None,\n",
       "  'author': 'Redrid_',\n",
       "  'discussion_type': None,\n",
       "  'num_comments': 7,\n",
       "  'send_replies': True,\n",
       "  'contest_mode': False,\n",
       "  'mod_reports': [],\n",
       "  'author_patreon_flair': False,\n",
       "  'author_flair_text_color': None,\n",
       "  'permalink': '/r/SkeletonSoldier/comments/1l7zk48/chapter_334/',\n",
       "  'stickied': False,\n",
       "  'url': 'https://i.redd.it/yi6fnz6ow36f1.png',\n",
       "  'subreddit_subscribers': 9195,\n",
       "  'created_utc': 1749564218.0,\n",
       "  'num_crossposts': 0,\n",
       "  'media': None,\n",
       "  'is_video': False}}"
      ]
     },
     "execution_count": 11,
     "metadata": {},
     "output_type": "execute_result"
    }
   ],
   "source": [
    "child = html['data']['children'][0]\n",
    "child"
   ]
  },
  {
   "cell_type": "code",
   "execution_count": 14,
   "metadata": {},
   "outputs": [
    {
     "data": {
      "text/plain": [
       "1749564218.0"
      ]
     },
     "execution_count": 14,
     "metadata": {},
     "output_type": "execute_result"
    }
   ],
   "source": [
    "child['data']['created_utc']"
   ]
  },
  {
   "cell_type": "code",
   "execution_count": 23,
   "metadata": {},
   "outputs": [
    {
     "name": "stdout",
     "output_type": "stream",
     "text": [
      "2025-06-10 14:03:38+00:00 - Chapter 334\n",
      "2025-05-27 14:56:09+00:00 - Chapter 332\n"
     ]
    }
   ],
   "source": [
    "from datetime import datetime, timezone\n",
    "\n",
    "\n",
    "for child in html['data']['children']:\n",
    "    data = child['data']\n",
    "    created_datetime = datetime.fromtimestamp(data['created_utc'], timezone.utc)\n",
    "    flair = data['link_flair_text']\n",
    "    title = data['title']\n",
    "\n",
    "    if flair is not None and flair.lower() == 'new chapter':\n",
    "        print(f\"{created_datetime} - {title}\")"
   ]
  },
  {
   "cell_type": "code",
   "execution_count": null,
   "metadata": {},
   "outputs": [],
   "source": []
  }
 ],
 "metadata": {
  "kernelspec": {
   "display_name": "Python 3",
   "language": "python",
   "name": "python3"
  },
  "language_info": {
   "codemirror_mode": {
    "name": "ipython",
    "version": 3
   },
   "file_extension": ".py",
   "mimetype": "text/x-python",
   "name": "python",
   "nbconvert_exporter": "python",
   "pygments_lexer": "ipython3",
   "version": "3.11.11"
  }
 },
 "nbformat": 4,
 "nbformat_minor": 2
}

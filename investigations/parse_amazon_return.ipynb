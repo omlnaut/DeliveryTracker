{
 "cells": [
  {
   "cell_type": "code",
   "execution_count": 10,
   "id": "d90ca578",
   "metadata": {},
   "outputs": [
    {
     "name": "stdout",
     "output_type": "stream",
     "text": [
      "The autoreload extension is already loaded. To reload it, use:\n",
      "  %reload_ext autoreload\n"
     ]
    }
   ],
   "source": [
    "%load_ext autoreload\n",
    "%autoreload 2"
   ]
  },
  {
   "cell_type": "code",
   "execution_count": 11,
   "id": "c42214e2",
   "metadata": {},
   "outputs": [],
   "source": [
    "from common import *\n",
    "\n",
    "add_workspace_to_path()"
   ]
  },
  {
   "cell_type": "code",
   "execution_count": 12,
   "id": "82c7b1a3",
   "metadata": {},
   "outputs": [],
   "source": [
    "from bs4 import BeautifulSoup"
   ]
  },
  {
   "cell_type": "code",
   "execution_count": 13,
   "id": "b9e2a20b",
   "metadata": {},
   "outputs": [],
   "source": [
    "html = open('amazon_rueckgabe.html', 'r').read()\n",
    "soup = BeautifulSoup(html, 'html.parser')"
   ]
  },
  {
   "cell_type": "code",
   "execution_count": 14,
   "id": "07b4ffc9",
   "metadata": {},
   "outputs": [],
   "source": [
    "def find_tr_by_text(soup, text):\n",
    "    return soup.find(string=text).find_parent(\"tr\")\n"
   ]
  },
  {
   "cell_type": "code",
   "execution_count": 15,
   "id": "a61b0d74",
   "metadata": {},
   "outputs": [
    {
     "data": {
      "text/plain": [
       "'5. Juli 2025'"
      ]
     },
     "execution_count": 15,
     "metadata": {},
     "output_type": "execute_result"
    }
   ],
   "source": [
    "return_text_tr = find_tr_by_text(soup, \"Rückgabe bis:\")\n",
    "return_date_tr = return_text_tr.find_next_sibling(\"tr\").find_next_sibling(\"tr\")\n",
    "\n",
    "return_date_tr.text"
   ]
  },
  {
   "cell_type": "code",
   "execution_count": 16,
   "id": "17891a8c",
   "metadata": {},
   "outputs": [
    {
     "data": {
      "text/plain": [
       "'DHL Abgabe an Packstation – weder Verpackung noch Drucker erforderlich'"
      ]
     },
     "execution_count": 16,
     "metadata": {},
     "output_type": "execute_result"
    }
   ],
   "source": [
    "location_tr = find_tr_by_text(soup, \"Abgabestandort\")\n",
    "location_tr.find_next_sibling(\"tr\").find_next_sibling(\"tr\").text"
   ]
  },
  {
   "cell_type": "code",
   "execution_count": 17,
   "id": "ace2cd61",
   "metadata": {},
   "outputs": [
    {
     "name": "stdout",
     "output_type": "stream",
     "text": [
      "IceUnicorn Krabbelschuhe Baby...\n"
     ]
    }
   ],
   "source": [
    "import re\n",
    "\n",
    "anzahl_tr = find_tr_by_text(soup, re.compile(\"\"\"^Anzahl:\"\"\"))\n",
    "print(anzahl_tr.find_previous_sibling(\"tr\").find_previous_sibling(\"tr\").text)"
   ]
  },
  {
   "cell_type": "code",
   "execution_count": 19,
   "id": "e3880dd6",
   "metadata": {},
   "outputs": [
    {
     "data": {
      "text/plain": [
       "'302-9238863-3187535'"
      ]
     },
     "execution_count": 19,
     "metadata": {},
     "output_type": "execute_result"
    }
   ],
   "source": [
    "soup.find(string = re.compile(\"^Bestellnummer\")).split(\" \")[1]"
   ]
  },
  {
   "cell_type": "code",
   "execution_count": null,
   "id": "49cca074",
   "metadata": {},
   "outputs": [],
   "source": []
  }
 ],
 "metadata": {
  "kernelspec": {
   "display_name": "Python 3",
   "language": "python",
   "name": "python3"
  },
  "language_info": {
   "codemirror_mode": {
    "name": "ipython",
    "version": 3
   },
   "file_extension": ".py",
   "mimetype": "text/x-python",
   "name": "python",
   "nbconvert_exporter": "python",
   "pygments_lexer": "ipython3",
   "version": "3.11.11"
  }
 },
 "nbformat": 4,
 "nbformat_minor": 5
}

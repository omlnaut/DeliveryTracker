{
 "cells": [
  {
   "cell_type": "code",
   "execution_count": 1,
   "metadata": {},
   "outputs": [],
   "source": [
    "import json\n",
    "from pathlib import Path\n",
    "from google.oauth2.credentials import Credentials"
   ]
  },
  {
   "cell_type": "code",
   "execution_count": 2,
   "metadata": {},
   "outputs": [],
   "source": [
    "token_path = Path(\"/workspaces/DeliveryTracker/google_token/logged_in_credentials.json\")\n",
    "token = json.loads(token_path.read_text())\n",
    "credentials = Credentials.from_authorized_user_info(token)"
   ]
  },
  {
   "cell_type": "code",
   "execution_count": 3,
   "metadata": {},
   "outputs": [],
   "source": [
    "from googleapiclient.discovery import build\n",
    "\n",
    "service = build(\n",
    "            \"tasks\", \"v1\", credentials=credentials, cache_discovery=False\n",
    "        )"
   ]
  },
  {
   "cell_type": "code",
   "execution_count": 6,
   "metadata": {},
   "outputs": [],
   "source": [
    "tasklists = service.tasklists().list().execute()"
   ]
  },
  {
   "cell_type": "code",
   "execution_count": null,
   "metadata": {},
   "outputs": [],
   "source": [
    "tasklists"
   ]
  },
  {
   "cell_type": "code",
   "execution_count": 8,
   "metadata": {},
   "outputs": [],
   "source": [
    "from enum import Enum\n",
    "\n",
    "\n",
    "class TaskListType(Enum):\n",
    "    DEFAULT = \"MDY0Mzc2NjgyMDc4MTc0Nzg3Mjk6MDow\"\n",
    "    MANGA = \"WFRzM0JfdkdTXzl4WHVHNw\""
   ]
  },
  {
   "cell_type": "code",
   "execution_count": 9,
   "metadata": {},
   "outputs": [],
   "source": [
    "id = TaskListType.DEFAULT.value"
   ]
  },
  {
   "cell_type": "code",
   "execution_count": 10,
   "metadata": {},
   "outputs": [
    {
     "name": "stdout",
     "output_type": "stream",
     "text": [
      "TaskListType.DEFAULT\n"
     ]
    }
   ],
   "source": [
    "task_list_type = TaskListType(id)\n",
    "print(task_list_type)\n",
    "from enum import Enum\n",
    "\n",
    "\n",
    "def get_enum_value_name(enum_value: Enum) -> str:\n",
    "    \"\"\"Get the string name of an enum value.\"\"\"\n",
    "    return enum_value.name"
   ]
  },
  {
   "cell_type": "code",
   "execution_count": null,
   "metadata": {},
   "outputs": [],
   "source": []
  }
 ],
 "metadata": {
  "kernelspec": {
   "display_name": "Python 3",
   "language": "python",
   "name": "python3"
  },
  "language_info": {
   "codemirror_mode": {
    "name": "ipython",
    "version": 3
   },
   "file_extension": ".py",
   "mimetype": "text/x-python",
   "name": "python",
   "nbconvert_exporter": "python",
   "pygments_lexer": "ipython3",
   "version": "3.11.11"
  }
 },
 "nbformat": 4,
 "nbformat_minor": 2
}

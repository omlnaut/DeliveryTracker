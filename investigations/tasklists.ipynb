{
 "cells": [
  {
   "cell_type": "code",
   "execution_count": 1,
   "metadata": {},
   "outputs": [],
   "source": [
    "import json\n",
    "from pathlib import Path\n",
    "from google.oauth2.credentials import Credentials"
   ]
  },
  {
   "cell_type": "code",
   "execution_count": 2,
   "metadata": {},
   "outputs": [],
   "source": [
    "token_path = Path(\"/workspaces/DeliveryTracker/google_token/logged_in_credentials.json\")\n",
    "token = json.loads(token_path.read_text())\n",
    "credentials = Credentials.from_authorized_user_info(token)"
   ]
  },
  {
   "cell_type": "code",
   "execution_count": 3,
   "metadata": {},
   "outputs": [],
   "source": [
    "from googleapiclient.discovery import build\n",
    "\n",
    "service = build(\n",
    "            \"tasks\", \"v1\", credentials=credentials, cache_discovery=False\n",
    "        )"
   ]
  },
  {
   "cell_type": "code",
   "execution_count": 6,
   "metadata": {},
   "outputs": [],
   "source": [
    "tasklists = service.tasklists().list().execute()"
   ]
  },
  {
   "cell_type": "code",
   "execution_count": 7,
   "metadata": {},
   "outputs": [
    {
     "data": {
      "text/plain": [
       "{'kind': 'tasks#taskLists',\n",
       " 'etag': '\"MTM3NTcwNDA3MQ\"',\n",
       " 'items': [{'kind': 'tasks#taskList',\n",
       "   'id': 'MDY0Mzc2NjgyMDc4MTc0Nzg3Mjk6MDow',\n",
       "   'etag': '\"MzMyMzY3Njc1\"',\n",
       "   'title': 'Meine Aufgaben',\n",
       "   'updated': '2024-12-29T19:05:55.080Z',\n",
       "   'selfLink': 'https://www.googleapis.com/tasks/v1/users/@me/lists/MDY0Mzc2NjgyMDc4MTc0Nzg3Mjk6MDow'},\n",
       "  {'kind': 'tasks#taskList',\n",
       "   'id': 'WFRzM0JfdkdTXzl4WHVHNw',\n",
       "   'etag': '\"MzMyMzc2ODIy\"',\n",
       "   'title': 'Mangas',\n",
       "   'updated': '2024-12-29T19:06:04.483Z',\n",
       "   'selfLink': 'https://www.googleapis.com/tasks/v1/users/@me/lists/WFRzM0JfdkdTXzl4WHVHNw'}]}"
      ]
     },
     "execution_count": 7,
     "metadata": {},
     "output_type": "execute_result"
    }
   ],
   "source": [
    "tasklists"
   ]
  },
  {
   "cell_type": "code",
   "execution_count": null,
   "metadata": {},
   "outputs": [],
   "source": []
  }
 ],
 "metadata": {
  "kernelspec": {
   "display_name": "Python 3",
   "language": "python",
   "name": "python3"
  },
  "language_info": {
   "codemirror_mode": {
    "name": "ipython",
    "version": 3
   },
   "file_extension": ".py",
   "mimetype": "text/x-python",
   "name": "python",
   "nbconvert_exporter": "python",
   "pygments_lexer": "ipython3",
   "version": "3.11.11"
  }
 },
 "nbformat": 4,
 "nbformat_minor": 2
}

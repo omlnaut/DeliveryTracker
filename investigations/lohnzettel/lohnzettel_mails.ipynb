{
 "cells": [
  {
   "cell_type": "code",
   "execution_count": 1,
   "metadata": {},
   "outputs": [],
   "source": [
    "import sys\n",
    "import json\n",
    "from pathlib import Path\n",
    "from google.oauth2.credentials import Credentials\n",
    "\n",
    "\n",
    "root_dir = Path(\"/workspaces/DeliveryTracker\")\n",
    "\n",
    "sys.path.insert(0, str(root_dir))\n",
    "\n",
    "\n",
    "credential_json = json.load((root_dir / \"google_token/logged_in_credentials.json\").open())\n",
    "credentials = Credentials.from_authorized_user_info(credential_json)"
   ]
  },
  {
   "cell_type": "code",
   "execution_count": 2,
   "metadata": {},
   "outputs": [],
   "source": [
    "import logging\n",
    "from shared.GoogleServices import GmailService\n",
    "from shared.GoogleServices.GmailQueryBuilder import GmailQueryBuilder\n",
    "\n",
    "\n",
    "gmail_service = GmailService(credentials)\n",
    "\n",
    "query = (\n",
    "    GmailQueryBuilder()\n",
    "    .from_email(\"personal@relaxdays.de\")\n",
    "    .subject(\"Lohnschein/Korrekturlohnschein\")\n",
    "    .has_attachment()\n",
    "    .build()\n",
    ")\n",
    "\n",
    "message_ids = [message.id for message in gmail_service._query_messages(query)]\n"
   ]
  },
  {
   "cell_type": "code",
   "execution_count": 3,
   "metadata": {},
   "outputs": [
    {
     "data": {
      "text/plain": [
       "['194cad1c11b575dd',\n",
       " '19426b454a807a0c',\n",
       " '1938753a6c9483ac',\n",
       " '192e7a823dfff7a3',\n",
       " '19247bcdbf8b7ea6',\n",
       " '191b20d9f02ab003',\n",
       " '1910e328f1a9334c',\n",
       " '1906d6e3b3f958c3',\n",
       " '18fddd59f5d64034',\n",
       " '18f39861ebea511c',\n",
       " '18e9f47ea3fea709',\n",
       " '18df984aff9b46b4',\n",
       " '18d686655214a31e',\n",
       " '18d650e290d206f1',\n",
       " '18d110a4913da7ac',\n",
       " '18cc9dc99ebd2285',\n",
       " '18c25532c74c83e4',\n",
       " '18b8ad150184903f',\n",
       " '18af02d0306d9f64',\n",
       " '18a5ed9487034c1d',\n",
       " '189da5b24c25723d',\n",
       " '18925d794e57b521']"
      ]
     },
     "execution_count": 3,
     "metadata": {},
     "output_type": "execute_result"
    }
   ],
   "source": [
    "message_ids"
   ]
  },
  {
   "cell_type": "code",
   "execution_count": 4,
   "metadata": {},
   "outputs": [],
   "source": [
    "detail = gmail_service._fetch_message_details(message_ids[0])"
   ]
  },
  {
   "cell_type": "code",
   "execution_count": 6,
   "metadata": {},
   "outputs": [],
   "source": [
    "filepaths = gmail_service.download_pdf_attachments(message_ids[0])"
   ]
  },
  {
   "cell_type": "code",
   "execution_count": null,
   "metadata": {},
   "outputs": [],
   "source": [
    "\n",
    "\n",
    "for msg_id in message_ids:\n",
    "    file_paths = [\n",
    "        Path(path) for path in gmail_service.download_pdf_attachments(msg_id)\n",
    "    ]\n",
    "\n",
    "    logging.info(f\"Downloaded {file_paths} attachments from message {msg_id}\")\n",
    "\n",
    "    for file_path in file_paths:\n",
    "        file_path.unlink()\n",
    "\n",
    "    break"
   ]
  }
 ],
 "metadata": {
  "kernelspec": {
   "display_name": "Python 3",
   "language": "python",
   "name": "python3"
  },
  "language_info": {
   "codemirror_mode": {
    "name": "ipython",
    "version": 3
   },
   "file_extension": ".py",
   "mimetype": "text/x-python",
   "name": "python",
   "nbconvert_exporter": "python",
   "pygments_lexer": "ipython3",
   "version": "3.11.11"
  }
 },
 "nbformat": 4,
 "nbformat_minor": 2
}

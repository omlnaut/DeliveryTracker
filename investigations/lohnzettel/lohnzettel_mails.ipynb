{
 "cells": [
  {
   "cell_type": "code",
   "execution_count": null,
   "metadata": {},
   "outputs": [],
   "source": [
    "import sys\n",
    "import json\n",
    "from pathlib import Path\n",
    "from google.oauth2.credentials import Credentials\n",
    "\n",
    "\n",
    "root_dir = Path(\"/workspaces/DeliveryTracker\")\n",
    "\n",
    "sys.path.insert(0, str(root_dir))\n",
    "\n",
    "\n",
    "credential_json = json.load((root_dir / \"google_token/logged_in_credentials.json\").open())\n",
    "credentials = Credentials.from_authorized_user_info(credential_json)"
   ]
  },
  {
   "cell_type": "code",
   "execution_count": null,
   "metadata": {},
   "outputs": [],
   "source": [
    "import logging\n",
    "from shared.GoogleServices import GmailService\n",
    "from shared.GoogleServices.GmailQueryBuilder import GmailQueryBuilder\n",
    "\n",
    "\n",
    "gmail_service = GmailService(credentials)\n",
    "\n",
    "query = (\n",
    "    GmailQueryBuilder()\n",
    "    .from_email(\"personal@relaxdays.de\")\n",
    "    .subject(\"Lohnschein/Korrekturlohnschein\")\n",
    "    .has_attachment()\n",
    "    .build()\n",
    ")\n",
    "\n",
    "message_ids = [message[\"id\"] for message in gmail_service._query_messages(query)]\n",
    "\n",
    "for msg_id in message_ids:\n",
    "    file_paths = [\n",
    "        Path(path) for path in gmail_service.download_pdf_attachments(msg_id)\n",
    "    ]\n",
    "\n",
    "    logging.info(f\"Downloaded {file_paths} attachments from message {msg_id}\")\n",
    "\n",
    "    for file_path in file_paths:\n",
    "        file_path.unlink()\n",
    "\n",
    "    break"
   ]
  }
 ],
 "metadata": {
  "kernelspec": {
   "display_name": "Python 3",
   "language": "python",
   "name": "python3"
  },
  "language_info": {
   "codemirror_mode": {
    "name": "ipython",
    "version": 3
   },
   "file_extension": ".py",
   "mimetype": "text/x-python",
   "name": "python",
   "nbconvert_exporter": "python",
   "pygments_lexer": "ipython3",
   "version": "3.11.11"
  }
 },
 "nbformat": 4,
 "nbformat_minor": 2
}

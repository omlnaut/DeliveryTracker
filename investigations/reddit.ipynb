{
 "cells": [
  {
   "cell_type": "code",
   "execution_count": 1,
   "id": "41a4a1ff",
   "metadata": {},
   "outputs": [],
   "source": [
    "%load_ext autoreload\n",
    "%autoreload 2"
   ]
  },
  {
   "cell_type": "code",
   "execution_count": 2,
   "id": "7ed2db19",
   "metadata": {},
   "outputs": [],
   "source": [
    "from common import *\n",
    "\n",
    "add_workspace_to_path()\n",
    "\n",
    "from shared.AzureHelper.reddit_credentials import load_reddit_credentials"
   ]
  },
  {
   "cell_type": "code",
   "execution_count": 3,
   "id": "85111ff1",
   "metadata": {},
   "outputs": [],
   "source": [
    "credentials = load_reddit_credentials()"
   ]
  },
  {
   "cell_type": "code",
   "execution_count": 4,
   "id": "906d34aa",
   "metadata": {},
   "outputs": [],
   "source": [
    "from shared.Reddit.RedditClient import RedditClient\n",
    "\n",
    "\n",
    "client = RedditClient(credentials)"
   ]
  },
  {
   "cell_type": "code",
   "execution_count": 5,
   "id": "1aac1fe3",
   "metadata": {},
   "outputs": [],
   "source": [
    "posts = client._get_raw_post_response(client.build_subreddit_url(\"OnePunchMan\"))"
   ]
  },
  {
   "cell_type": "code",
   "execution_count": 6,
   "id": "616e95dd",
   "metadata": {},
   "outputs": [],
   "source": [
    "posts = client.get_posts(\"OnePunchMan\")"
   ]
  },
  {
   "cell_type": "code",
   "execution_count": 7,
   "id": "9e231c28",
   "metadata": {},
   "outputs": [
    {
     "data": {
      "text/plain": [
       "100"
      ]
     },
     "execution_count": 7,
     "metadata": {},
     "output_type": "execute_result"
    }
   ],
   "source": [
    "len(posts)"
   ]
  },
  {
   "cell_type": "code",
   "execution_count": 8,
   "id": "40253e33",
   "metadata": {},
   "outputs": [
    {
     "data": {
      "text/plain": [
       "RedditPost(subreddit='OnePunchMan', created_at_timestamp=1750262726.0, title='Chapters 201-207 (RAW)', flair='Raw', destination_url='https://tonarinoyj.jp/episode/2550912965853717872')"
      ]
     },
     "execution_count": 8,
     "metadata": {},
     "output_type": "execute_result"
    }
   ],
   "source": [
    "posts[0]"
   ]
  },
  {
   "cell_type": "code",
   "execution_count": 9,
   "id": "8f8d641a",
   "metadata": {},
   "outputs": [
    {
     "data": {
      "text/plain": [
       "[]"
      ]
     },
     "execution_count": 9,
     "metadata": {},
     "output_type": "execute_result"
    }
   ],
   "source": [
    "[p for p in posts if p.flair and p.flair.lower() == \"murata chapter\"]"
   ]
  },
  {
   "cell_type": "code",
   "execution_count": null,
   "id": "b7f22631",
   "metadata": {},
   "outputs": [],
   "source": []
  }
 ],
 "metadata": {
  "kernelspec": {
   "display_name": "Python 3",
   "language": "python",
   "name": "python3"
  },
  "language_info": {
   "codemirror_mode": {
    "name": "ipython",
    "version": 3
   },
   "file_extension": ".py",
   "mimetype": "text/x-python",
   "name": "python",
   "nbconvert_exporter": "python",
   "pygments_lexer": "ipython3",
   "version": "3.11.11"
  }
 },
 "nbformat": 4,
 "nbformat_minor": 5
}

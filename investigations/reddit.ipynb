{
 "cells": [
  {
   "cell_type": "code",
   "execution_count": 1,
   "id": "41a4a1ff",
   "metadata": {},
   "outputs": [],
   "source": [
    "%load_ext autoreload\n",
    "%autoreload 2"
   ]
  },
  {
   "cell_type": "code",
   "execution_count": 2,
   "id": "7ed2db19",
   "metadata": {},
   "outputs": [],
   "source": [
    "from common import *\n",
    "\n",
    "add_workspace_to_path()\n",
    "\n",
    "from shared.AzureHelper.reddit_credentials import load_reddit_credentials"
   ]
  },
  {
   "cell_type": "code",
   "execution_count": 3,
   "id": "85111ff1",
   "metadata": {},
   "outputs": [],
   "source": [
    "credentials = load_reddit_credentials()"
   ]
  },
  {
   "cell_type": "code",
   "execution_count": 4,
   "id": "906d34aa",
   "metadata": {},
   "outputs": [],
   "source": [
    "from shared.Reddit.RedditClient import RedditClient\n",
    "\n",
    "\n",
    "client = RedditClient(credentials)"
   ]
  },
  {
   "cell_type": "code",
   "execution_count": 13,
   "id": "616e95dd",
   "metadata": {},
   "outputs": [],
   "source": [
    "posts = client.get_posts(\"SkeletonSoldier\")"
   ]
  },
  {
   "cell_type": "code",
   "execution_count": 14,
   "id": "9e231c28",
   "metadata": {},
   "outputs": [
    {
     "data": {
      "text/plain": [
       "100"
      ]
     },
     "execution_count": 14,
     "metadata": {},
     "output_type": "execute_result"
    }
   ],
   "source": [
    "len(posts)"
   ]
  },
  {
   "cell_type": "code",
   "execution_count": 17,
   "id": "8f8d641a",
   "metadata": {},
   "outputs": [
    {
     "data": {
      "text/plain": [
       "[RedditPost(subreddit='SkeletonSoldier', created_at_timestamp=1750169592.0, title='Chapter 335', flair='New Chapter'),\n",
       " RedditPost(subreddit='SkeletonSoldier', created_at_timestamp=1749970759.0, title='Is the current story arc filler?', flair='New Chapter'),\n",
       " RedditPost(subreddit='SkeletonSoldier', created_at_timestamp=1749564218.0, title='Chapter 334', flair='New Chapter'),\n",
       " RedditPost(subreddit='SkeletonSoldier', created_at_timestamp=1748357769.0, title='Chapter 332', flair='New Chapter'),\n",
       " RedditPost(subreddit='SkeletonSoldier', created_at_timestamp=1746539943.0, title='Chapter 329', flair='New Chapter'),\n",
       " RedditPost(subreddit='SkeletonSoldier', created_at_timestamp=1745937252.0, title='Chapter 328', flair='New Chapter'),\n",
       " RedditPost(subreddit='SkeletonSoldier', created_at_timestamp=1745333382.0, title='Chapter 327', flair='New Chapter'),\n",
       " RedditPost(subreddit='SkeletonSoldier', created_at_timestamp=1743515128.0, title='Chapter 324', flair='New Chapter'),\n",
       " RedditPost(subreddit='SkeletonSoldier', created_at_timestamp=1741699913.0, title='Chapter 321', flair='New Chapter'),\n",
       " RedditPost(subreddit='SkeletonSoldier', created_at_timestamp=1740495117.0, title='Chapter 319', flair='New Chapter'),\n",
       " RedditPost(subreddit='SkeletonSoldier', created_at_timestamp=1739284010.0, title='Chapter 317', flair='New Chapter'),\n",
       " RedditPost(subreddit='SkeletonSoldier', created_at_timestamp=1738072880.0, title='Chapter 315', flair='New Chapter')]"
      ]
     },
     "execution_count": 17,
     "metadata": {},
     "output_type": "execute_result"
    }
   ],
   "source": [
    "[p for p in posts if p.flair and p.flair.lower() == \"new chapter\"]"
   ]
  },
  {
   "cell_type": "code",
   "execution_count": null,
   "id": "b7f22631",
   "metadata": {},
   "outputs": [],
   "source": []
  }
 ],
 "metadata": {
  "kernelspec": {
   "display_name": "Python 3",
   "language": "python",
   "name": "python3"
  },
  "language_info": {
   "codemirror_mode": {
    "name": "ipython",
    "version": 3
   },
   "file_extension": ".py",
   "mimetype": "text/x-python",
   "name": "python",
   "nbconvert_exporter": "python",
   "pygments_lexer": "ipython3",
   "version": "3.11.11"
  }
 },
 "nbformat": 4,
 "nbformat_minor": 5
}

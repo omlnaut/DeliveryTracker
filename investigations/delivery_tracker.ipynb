{
 "cells": [
  {
   "cell_type": "code",
   "execution_count": 1,
   "id": "e0e37f94",
   "metadata": {},
   "outputs": [],
   "source": [
    "%load_ext autoreload\n",
    "%autoreload 2"
   ]
  },
  {
   "cell_type": "code",
   "execution_count": 2,
   "id": "9dc74619",
   "metadata": {},
   "outputs": [],
   "source": [
    "from common import *\n",
    "\n",
    "add_workspace_to_path()\n",
    "\n",
    "from shared.GoogleServices.gmail.service import GmailService"
   ]
  },
  {
   "cell_type": "code",
   "execution_count": 3,
   "id": "fc419059",
   "metadata": {},
   "outputs": [],
   "source": [
    "service = GmailService(load_google_credentials())"
   ]
  },
  {
   "cell_type": "code",
   "execution_count": 4,
   "id": "dbb145c4",
   "metadata": {},
   "outputs": [],
   "source": [
    "from UseCases.DeliveryTracker.fetch_mail import get_amazon_dhl_pickup_emails"
   ]
  },
  {
   "cell_type": "code",
   "execution_count": 5,
   "id": "a875e969",
   "metadata": {},
   "outputs": [
    {
     "data": {
      "text/plain": [
       "4"
      ]
     },
     "execution_count": 5,
     "metadata": {},
     "output_type": "execute_result"
    }
   ],
   "source": [
    "contents = get_amazon_dhl_pickup_emails(service, hours=480)\n",
    "len(contents)"
   ]
  },
  {
   "cell_type": "code",
   "execution_count": 6,
   "id": "3d189490",
   "metadata": {},
   "outputs": [],
   "source": [
    "from UseCases.DeliveryTracker.parsing import parse_dhl_pickup_email_html"
   ]
  },
  {
   "cell_type": "code",
   "execution_count": 7,
   "id": "7fe3e21a",
   "metadata": {},
   "outputs": [
    {
     "data": {
      "text/plain": [
       "EmailData(tracking_number='JJD000390016951668949', pickup_location='', due_date='30.05.2025', preview='WOCVRYY Autositz Organizer...')"
      ]
     },
     "execution_count": 7,
     "metadata": {},
     "output_type": "execute_result"
    }
   ],
   "source": [
    "parse_dhl_pickup_email_html(contents[0])"
   ]
  },
  {
   "cell_type": "code",
   "execution_count": null,
   "id": "f8e042e0",
   "metadata": {},
   "outputs": [],
   "source": []
  }
 ],
 "metadata": {
  "kernelspec": {
   "display_name": "Python 3",
   "language": "python",
   "name": "python3"
  },
  "language_info": {
   "codemirror_mode": {
    "name": "ipython",
    "version": 3
   },
   "file_extension": ".py",
   "mimetype": "text/x-python",
   "name": "python",
   "nbconvert_exporter": "python",
   "pygments_lexer": "ipython3",
   "version": "3.11.11"
  }
 },
 "nbformat": 4,
 "nbformat_minor": 5
}

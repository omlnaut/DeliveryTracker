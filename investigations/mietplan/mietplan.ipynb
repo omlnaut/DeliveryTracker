{
 "cells": [
  {
   "cell_type": "code",
   "execution_count": 4,
   "metadata": {},
   "outputs": [],
   "source": [
    "import requests"
   ]
  },
  {
   "cell_type": "code",
   "execution_count": 5,
   "metadata": {},
   "outputs": [],
   "source": [
    "login_csrf_url = \"https://mietplan-dresden.de/login/\""
   ]
  },
  {
   "cell_type": "code",
   "execution_count": 6,
   "metadata": {},
   "outputs": [],
   "source": [
    "from bs4 import BeautifulSoup\n",
    "\n",
    "def extract_csrf_token(html: str) -> str:\n",
    "    soup = BeautifulSoup(html, \"html.parser\")\n",
    "\n",
    "    # Find the hidden input field containing the CSRF token\n",
    "    input_element = soup.find(\"input\", {\"name\": \"csrf\"})\n",
    "    if input_element is None:\n",
    "        raise ValueError(\"No login form found for csrf token\")\n",
    "\n",
    "    csrf_token = input_element[\"value\"] # type: ignore\n",
    "\n",
    "    if not csrf_token:\n",
    "        raise ValueError(\"Empty CSRF token found in the login form\")\n",
    "\n",
    "\n",
    "    return str(csrf_token)"
   ]
  },
  {
   "cell_type": "code",
   "execution_count": 7,
   "metadata": {},
   "outputs": [],
   "source": [
    "def fetch_csrf_token(session: requests.Session) -> str:\n",
    "    response = session.get(login_csrf_url)\n",
    "    response.raise_for_status()\n",
    "    return extract_csrf_token(response.content.decode(encoding='latin-1'))"
   ]
  },
  {
   "cell_type": "code",
   "execution_count": 8,
   "metadata": {},
   "outputs": [],
   "source": [
    "from pathlib import Path\n",
    "import json\n",
    "\n",
    "\n",
    "credentials = json.load(Path(\"mietplan_credentials.json\").open())"
   ]
  },
  {
   "cell_type": "code",
   "execution_count": 9,
   "metadata": {},
   "outputs": [],
   "source": [
    "def login(session: requests.Session, username: str, password: str) -> None:\n",
    "    csrf_token = fetch_csrf_token(session)\n",
    "\n",
    "    login_url = \"https://mietplan-dresden.de/auctores/scs/auctores.controller.web.InfoLoginMultiController\"\n",
    "\n",
    "    headers = {\n",
    "        \"Accept\": \"text/html,application/xhtml+xml,application/xml;q=0.9,image/avif,image/webp,image/apng,*/*;q=0.8,application/signed-exchange;v=b3;q=0.7\",\n",
    "        \"Accept-Language\": \"de-DE,de;q=0.9,en-US;q=0.8,en-DE;q=0.7,en;q=0.6\",\n",
    "        \"Cache-Control\": \"max-age=0\",\n",
    "        \"Origin\": \"https://mietplan-dresden.de\",\n",
    "        \"Referer\": \"https://mietplan-dresden.de/login/\",\n",
    "        \"DNT\": \"1\",\n",
    "        \"Sec-CH-UA\": '\"Not A(Brand\";v=\"8\", \"Chromium\";v=\"132\", \"Google Chrome\";v=\"132\"',\n",
    "        \"Sec-CH-UA-Mobile\": \"?0\",\n",
    "        \"Sec-CH-UA-Platform\": '\"Windows\"',\n",
    "        \"Sec-Fetch-Dest\": \"document\",\n",
    "        \"Sec-Fetch-Mode\": \"navigate\",\n",
    "        \"Sec-Fetch-Site\": \"same-origin\",\n",
    "        \"Sec-Fetch-User\": \"?1\",\n",
    "        \"Upgrade-Insecure-Requests\": \"1\",\n",
    "        \"User-Agent\": \"Mozilla/5.0 (Windows NT 10.0; Win64; x64) AppleWebKit/537.36 (KHTML, like Gecko) Chrome/132.0.0.0 Safari/537.36\",\n",
    "    }\n",
    "\n",
    "    # Form data\n",
    "    data = {\n",
    "        \"csrf\": csrf_token,  # Dynamically extracted\n",
    "        \"fdInf_ID\": \"CY25277299X1116e405343XY7477\",\n",
    "        \"fdCtrlType\": \"FORWARDER\",\n",
    "        \"fdMode\": \"MODE_LOGIN\",\n",
    "        \"dbUserID\": username,\n",
    "        \"dbPasswort\": password,\n",
    "    }\n",
    "\n",
    "    response = session.post(login_url, headers=headers, data=data)\n",
    "\n",
    "    response.raise_for_status()"
   ]
  },
  {
   "cell_type": "code",
   "execution_count": 10,
   "metadata": {},
   "outputs": [],
   "source": [
    "session = requests.Session()\n",
    "\n",
    "username = credentials[\"username\"]\n",
    "password = credentials[\"password\"]\n",
    "login(session, username, password)"
   ]
  },
  {
   "cell_type": "code",
   "execution_count": 11,
   "metadata": {},
   "outputs": [],
   "source": [
    "webdepot_url = \"https://mietplan-dresden.de/webdepot/\"\n",
    "\n",
    "response = session.get(webdepot_url)"
   ]
  },
  {
   "cell_type": "code",
   "execution_count": 47,
   "metadata": {},
   "outputs": [],
   "source": [
    "class FolderMetadata:\n",
    "    name: str\n",
    "    folder_id: str\n",
    "    has_subfolders: bool\n",
    "\n",
    "    @staticmethod\n",
    "    def from_json(json_data: dict) -> 'FolderMetadata':\n",
    "        metadata = FolderMetadata()\n",
    "\n",
    "        metadata.name = json_data[\"filename\"]\n",
    "        metadata.folder_id = json_data[\"fileid\"]\n",
    "        metadata.has_subfolders = json_data[\"filechildren\"]\n",
    "\n",
    "        return metadata\n",
    "\n",
    "    def __repr__(self) -> str:\n",
    "        return f\"FolderMetadata(name={self.name}, folder_id={self.folder_id}, has_subfolders={self.has_subfolders})\""
   ]
  },
  {
   "cell_type": "code",
   "execution_count": 49,
   "metadata": {},
   "outputs": [],
   "source": [
    "def get_folders(session: requests.Session, parent_folder_id: str) -> list[FolderMetadata ]:\n",
    "    main_folder_url = f\"https://mietplan-dresden.de/moxanos/json?&svc=org.auctores.bvi.mietplan2&msg=getFolders&fdFolder={parent_folder_id}\"\n",
    "\n",
    "    response = session.get(main_folder_url)\n",
    "    response.raise_for_status()\n",
    "\n",
    "    folders = [FolderMetadata.from_json(folder_json) for folder_json in response.json().values()]\n",
    "\n",
    "    return folders\n",
    "\n",
    "main_folder_id = \"ac4do35ktgfi79j8ids35om8udm\"\n",
    "\n",
    "folders = get_folders(session, main_folder_id)"
   ]
  },
  {
   "cell_type": "code",
   "execution_count": 53,
   "metadata": {},
   "outputs": [],
   "source": [
    "file_url = \"https://mietplan-dresden.de/moxanos/json?&svc=org.auctores.bvi.mietplan2&msg=getFiles&fdFolder=aq00vmb30jvhql0fp04sdog4m3b\"\n",
    "\n",
    "response = session.get(file_url)"
   ]
  },
  {
   "cell_type": "code",
   "execution_count": 51,
   "metadata": {},
   "outputs": [],
   "source": [
    "from datetime import datetime\n",
    "\n",
    "\n",
    "class FileMetadata:\n",
    "    creation_date: datetime\n",
    "    download_path: str\n",
    "\n",
    "    @staticmethod\n",
    "    def from_json(json_data: dict) -> 'FileMetadata':\n",
    "        metadata = FileMetadata()\n",
    "\n",
    "        date_format = \"%d.%m.%Y\"\n",
    "        metadata.creation_date = datetime.strptime(json_data[\"filecrea\"], date_format)\n",
    "        metadata.download_path = json_data[\"filepath\"]\n",
    "\n",
    "        return metadata\n",
    "\n",
    "    def __repr__(self) -> str:\n",
    "        return f\"FileMetadata(creation_date={self.creation_date}, download_path={self.download_path})\"\n",
    "\n",
    "def get_files(session: requests.Session, folder_id: str) -> list[FileMetadata]:\n",
    "    file_url = f\"https://mietplan-dresden.de/moxanos/json?&svc=org.auctores.bvi.mietplan2&msg=getFiles&fdFolder={folder_id}\"\n",
    "\n",
    "    response = session.get(file_url)\n",
    "    response.raise_for_status()\n",
    "\n",
    "    files = [FileMetadata.from_json(file_json) for file_json in response.json().values()]\n",
    "\n",
    "    return files"
   ]
  },
  {
   "cell_type": "code",
   "execution_count": 57,
   "metadata": {},
   "outputs": [
    {
     "data": {
      "text/plain": [
       "[FileMetadata(creation_date=2024-09-05 00:00:00, download_path=/download/avfkmj4qelgh2jif884i1celf15/2023 Bod25-25a, B&ouml;1, GW2.pdf),\n",
       " FileMetadata(creation_date=2023-06-28 00:00:00, download_path=/download/apenpshuo4kmfb1rqb1imgqj7ve/2022 Bod25-25a, B&ouml;1, GW2.pdf)]"
      ]
     },
     "execution_count": 57,
     "metadata": {},
     "output_type": "execute_result"
    }
   ],
   "source": [
    "some_folder_id = folders[1].folder_id\n",
    "files = get_files(session, some_folder_id)\n",
    "files"
   ]
  },
  {
   "cell_type": "code",
   "execution_count": 60,
   "metadata": {},
   "outputs": [
    {
     "name": "stdout",
     "output_type": "stream",
     "text": [
      "Download path: /download/avfkmj4qelgh2jif884i1celf15/2023 Bod25-25a, Bö1, GW2.pdf\n"
     ]
    }
   ],
   "source": [
    "import html\n",
    "\n",
    "download_path = html.unescape(files[0].download_path)\n",
    "print(f\"Download path: {download_path}\")"
   ]
  },
  {
   "cell_type": "code",
   "execution_count": 64,
   "metadata": {},
   "outputs": [],
   "source": [
    "def download_file(session: requests.Session, download_path: str) -> None:\n",
    "    download_base = \"https://mietplan-dresden.de\"\n",
    "    download_url = download_base + download_path\n",
    "\n",
    "    # download file from download_url\n",
    "    response = session.get(download_url)\n",
    "\n",
    "    # save file to disk\n",
    "    filename = download_url.split(\"/\")[-1]\n",
    "    with open(filename, \"wb\") as file:\n",
    "        file.write(response.content)"
   ]
  },
  {
   "cell_type": "code",
   "execution_count": null,
   "metadata": {},
   "outputs": [],
   "source": []
  }
 ],
 "metadata": {
  "kernelspec": {
   "display_name": "Python 3",
   "language": "python",
   "name": "python3"
  },
  "language_info": {
   "codemirror_mode": {
    "name": "ipython",
    "version": 3
   },
   "file_extension": ".py",
   "mimetype": "text/x-python",
   "name": "python",
   "nbconvert_exporter": "python",
   "pygments_lexer": "ipython3",
   "version": "3.11.11"
  }
 },
 "nbformat": 4,
 "nbformat_minor": 2
}

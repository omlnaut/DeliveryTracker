{
 "cells": [
  {
   "cell_type": "code",
   "execution_count": 1,
   "metadata": {},
   "outputs": [],
   "source": [
    "import sys\n",
    "\n",
    "# add to path\n",
    "sys.path.append('/workspaces/DeliveryTracker')"
   ]
  },
  {
   "cell_type": "code",
   "execution_count": 2,
   "metadata": {},
   "outputs": [],
   "source": [
    "from UseCases.mietplan.session_handling import *"
   ]
  },
  {
   "cell_type": "code",
   "execution_count": 3,
   "metadata": {},
   "outputs": [],
   "source": [
    "import requests\n",
    "import json\n",
    "from pathlib import Path\n",
    "\n",
    "credentials = json.load(Path('mietplan_credentials.json').open())\n",
    "\n",
    "session = requests.Session()\n",
    "login(session, credentials['username'], credentials['password'])"
   ]
  },
  {
   "cell_type": "code",
   "execution_count": 4,
   "metadata": {},
   "outputs": [],
   "source": [
    "folders = get_folders(session, MAIN_FOLDER_ID)"
   ]
  },
  {
   "cell_type": "code",
   "execution_count": 5,
   "metadata": {},
   "outputs": [
    {
     "data": {
      "text/plain": [
       "[FolderMetadata(name=ETV, folder_id=adm9r0p4pdl8f37733143pqt0g6, has_subfolders=False),\n",
       " FolderMetadata(name=Vermögensübersicht, folder_id=ag975pffrdefar8bs64q0g74ijc, has_subfolders=False),\n",
       " FolderMetadata(name=Beschlussprotokolle, folder_id=aq00vmb30jvhql0fp04sdog4m3b, has_subfolders=False),\n",
       " FolderMetadata(name=Energieausweis, folder_id=a457sjdbrs5sdggo7ju5fui2jko, has_subfolders=False),\n",
       " FolderMetadata(name=Hausordnung + Tiefgaragenordnung, folder_id=avaisdk56no1t6u92r4b176h88j, has_subfolders=False),\n",
       " FolderMetadata(name=Notrufaushänge, folder_id=askc9sl6d61i2uk0juers4qpib6, has_subfolders=False),\n",
       " FolderMetadata(name=Objektfotos, folder_id=ar65b29d0qpn1dt85o6f3k3n55o, has_subfolders=True),\n",
       " FolderMetadata(name=Objektinformationen, folder_id=ah755ptqg9jqhhms3t2p0g8fmr4, has_subfolders=True),\n",
       " FolderMetadata(name=Rechtsfälle, folder_id=a46pmuu219oq500gmo284i5fv57, has_subfolders=False),\n",
       " FolderMetadata(name=Teilungserklärung + Gemeinschaftsordnung, folder_id=a936qi7fmo6bvsh68rseqrmtj5d, has_subfolders=True),\n",
       " FolderMetadata(name=Versicherungen, folder_id=aei4fpf8coidhjs7h57tld414fd, has_subfolders=False),\n",
       " FolderMetadata(name=Verwaltervertrag, folder_id=al5maurndase8hvp6af7tvhkgj7, has_subfolders=False),\n",
       " FolderMetadata(name=Grundsteuer, folder_id=a9p0j563n2pnhdo32rag1m71a18, has_subfolders=False)]"
      ]
     },
     "execution_count": 5,
     "metadata": {},
     "output_type": "execute_result"
    }
   ],
   "source": [
    "folders"
   ]
  },
  {
   "cell_type": "code",
   "execution_count": 6,
   "metadata": {},
   "outputs": [
    {
     "data": {
      "text/plain": [
       "[FileMetadata(creation_date=2025-02-12 00:00:00, download_path=/download/ahucgga1rbps3ukufhc3mnlf9ei/Information zum Termin ETV 2025.pdf, filename=Information zum Termin ETV 2025.pdf)]"
      ]
     },
     "execution_count": 6,
     "metadata": {},
     "output_type": "execute_result"
    }
   ],
   "source": [
    "files = get_files(session, folders[0].folder_id)\n",
    "files"
   ]
  },
  {
   "cell_type": "code",
   "execution_count": 9,
   "metadata": {},
   "outputs": [],
   "source": [
    "from dataclasses import dataclass\n",
    "from datetime import datetime\n",
    "\n",
    "\n",
    "@dataclass\n",
    "class File:\n",
    "    creation_date: datetime\n",
    "    name: str\n",
    "    url: str\n",
    "\n",
    "@dataclass\n",
    "class Folder:\n",
    "    id: str\n",
    "    path: list[str]\n",
    "    files: list[File]"
   ]
  },
  {
   "cell_type": "code",
   "execution_count": 13,
   "metadata": {},
   "outputs": [],
   "source": [
    "def walk_from_top_folder(session, top_folder_id: str):\n",
    "    folders_to_check = [Folder(folder.folder_id, [folder.name], []) for folder in get_folders(session, top_folder_id)]\n",
    "\n",
    "    while folders_to_check:\n",
    "        folder = folders_to_check.pop()\n",
    "\n",
    "        files = get_files(session, folder.id)\n",
    "        for file in files:\n",
    "            folder.files.append(File(file.creation_date, file.filename, file.download_path))\n",
    "\n",
    "        yield folder\n",
    "\n",
    "        # files = get_files(session, folder.id)\n",
    "        sub_folders = get_folders(session, folder.id)\n",
    "        for sub_folder in sub_folders:\n",
    "            folders_to_check.append(Folder(sub_folder.folder_id, folder.path + [sub_folder.name], []))"
   ]
  },
  {
   "cell_type": "code",
   "execution_count": null,
   "metadata": {},
   "outputs": [],
   "source": [
    "for folder in walk_from_top_folder(session, MAIN_FOLDER_ID):\n",
    "    print(folder.path)\n",
    "    for file in folder.files:\n",
    "        print(file.name)"
   ]
  },
  {
   "cell_type": "code",
   "execution_count": null,
   "metadata": {},
   "outputs": [],
   "source": []
  }
 ],
 "metadata": {
  "kernelspec": {
   "display_name": "Python 3",
   "language": "python",
   "name": "python3"
  },
  "language_info": {
   "codemirror_mode": {
    "name": "ipython",
    "version": 3
   },
   "file_extension": ".py",
   "mimetype": "text/x-python",
   "name": "python",
   "nbconvert_exporter": "python",
   "pygments_lexer": "ipython3",
   "version": "3.11.11"
  }
 },
 "nbformat": 4,
 "nbformat_minor": 2
}

{
 "cells": [
  {
   "cell_type": "code",
   "execution_count": 1,
   "metadata": {},
   "outputs": [],
   "source": [
    "import sys\n",
    "\n",
    "# add to path\n",
    "sys.path.append('/workspaces/DeliveryTracker')"
   ]
  },
  {
   "cell_type": "code",
   "execution_count": 2,
   "metadata": {},
   "outputs": [],
   "source": [
    "from UseCases.mietplan.session_handling import *"
   ]
  },
  {
   "cell_type": "code",
   "execution_count": 3,
   "metadata": {},
   "outputs": [],
   "source": [
    "import requests\n",
    "import json\n",
    "from pathlib import Path\n",
    "\n",
    "credentials = json.load(Path('mietplan_credentials.json').open())\n",
    "\n",
    "session = requests.Session()\n",
    "login(session, credentials['username'], credentials['password'])"
   ]
  },
  {
   "cell_type": "code",
   "execution_count": 4,
   "metadata": {},
   "outputs": [],
   "source": [
    "folders = get_folders(session, MAIN_FOLDER_ID)"
   ]
  },
  {
   "cell_type": "code",
   "execution_count": 5,
   "metadata": {},
   "outputs": [
    {
     "data": {
      "text/plain": [
       "[FolderMetadata(name=ETV, folder_id=adm9r0p4pdl8f37733143pqt0g6, has_subfolders=False),\n",
       " FolderMetadata(name=Vermögensübersicht, folder_id=ag975pffrdefar8bs64q0g74ijc, has_subfolders=False),\n",
       " FolderMetadata(name=Beschlussprotokolle, folder_id=aq00vmb30jvhql0fp04sdog4m3b, has_subfolders=False),\n",
       " FolderMetadata(name=Energieausweis, folder_id=a457sjdbrs5sdggo7ju5fui2jko, has_subfolders=False),\n",
       " FolderMetadata(name=Hausordnung + Tiefgaragenordnung, folder_id=avaisdk56no1t6u92r4b176h88j, has_subfolders=False),\n",
       " FolderMetadata(name=Notrufaushänge, folder_id=askc9sl6d61i2uk0juers4qpib6, has_subfolders=False),\n",
       " FolderMetadata(name=Objektfotos, folder_id=ar65b29d0qpn1dt85o6f3k3n55o, has_subfolders=True),\n",
       " FolderMetadata(name=Objektinformationen, folder_id=ah755ptqg9jqhhms3t2p0g8fmr4, has_subfolders=True),\n",
       " FolderMetadata(name=Rechtsfälle, folder_id=a46pmuu219oq500gmo284i5fv57, has_subfolders=False),\n",
       " FolderMetadata(name=Teilungserklärung + Gemeinschaftsordnung, folder_id=a936qi7fmo6bvsh68rseqrmtj5d, has_subfolders=True),\n",
       " FolderMetadata(name=Versicherungen, folder_id=aei4fpf8coidhjs7h57tld414fd, has_subfolders=False),\n",
       " FolderMetadata(name=Verwaltervertrag, folder_id=al5maurndase8hvp6af7tvhkgj7, has_subfolders=False),\n",
       " FolderMetadata(name=Grundsteuer, folder_id=a9p0j563n2pnhdo32rag1m71a18, has_subfolders=False)]"
      ]
     },
     "execution_count": 5,
     "metadata": {},
     "output_type": "execute_result"
    }
   ],
   "source": [
    "folders"
   ]
  },
  {
   "cell_type": "code",
   "execution_count": 6,
   "metadata": {},
   "outputs": [
    {
     "data": {
      "text/plain": [
       "[FileMetadata(creation_date=2025-02-12 00:00:00, download_path=/download/ahucgga1rbps3ukufhc3mnlf9ei/Information zum Termin ETV 2025.pdf, filename=Information zum Termin ETV 2025.pdf)]"
      ]
     },
     "execution_count": 6,
     "metadata": {},
     "output_type": "execute_result"
    }
   ],
   "source": [
    "files = get_files(session, folders[0].folder_id)\n",
    "files"
   ]
  },
  {
   "cell_type": "code",
   "execution_count": 9,
   "metadata": {},
   "outputs": [],
   "source": [
    "from dataclasses import dataclass\n",
    "from datetime import datetime\n",
    "\n",
    "\n",
    "@dataclass\n",
    "class File:\n",
    "    creation_date: datetime\n",
    "    name: str\n",
    "    url: str\n",
    "\n",
    "@dataclass\n",
    "class Folder:\n",
    "    id: str\n",
    "    path: list[str]\n",
    "    files: list[File]"
   ]
  },
  {
   "cell_type": "code",
   "execution_count": 13,
   "metadata": {},
   "outputs": [],
   "source": [
    "def walk_from_top_folder(session, top_folder_id: str):\n",
    "    folders_to_check = [Folder(folder.folder_id, [folder.name], []) for folder in get_folders(session, top_folder_id)]\n",
    "\n",
    "    while folders_to_check:\n",
    "        folder = folders_to_check.pop()\n",
    "\n",
    "        files = get_files(session, folder.id)\n",
    "        for file in files:\n",
    "            folder.files.append(File(file.creation_date, file.filename, file.download_path))\n",
    "\n",
    "        yield folder\n",
    "\n",
    "        # files = get_files(session, folder.id)\n",
    "        sub_folders = get_folders(session, folder.id)\n",
    "        for sub_folder in sub_folders:\n",
    "            folders_to_check.append(Folder(sub_folder.folder_id, folder.path + [sub_folder.name], []))"
   ]
  },
  {
   "cell_type": "code",
   "execution_count": 14,
   "metadata": {},
   "outputs": [
    {
     "name": "stdout",
     "output_type": "stream",
     "text": [
      "['Grundsteuer']\n",
      "Grundsteuer_B.pdf\n",
      "['Verwaltervertrag']\n",
      "1. Nachtrag  zum Verwaltervertrag 01.08.2022-31.12.2025.pdf\n",
      "Anpassung Verwaltervertrag 01.01.2021-31.12.2025.pdf\n",
      "Verwaltervertrag 01.01.2021-31.12.2025.pdf\n",
      "Verwaltervollmacht 01.01.2021-31.12.2025.pdf\n",
      "Verwaltervertrag 01-2016 bis 12-2020.pdf\n",
      "['Versicherungen']\n",
      "Wohngebäudeversicherung neu 04-12.2019.pdf\n",
      "Kündigungsbestätigung Gebäudeversicherung.pdf\n",
      "Kündigungsbestätigungen Haftpflichtversicherungen.pdf\n",
      "Rückerstattung Beitrag 04-12.2019.pdf\n",
      "Wohngebäudeversicherung alt 01-03.2019.pdf\n",
      "Rahmenvertrag Wohngebäudeversicherung.pdf\n",
      "Rahmenvertrag Haftpflichtversicherung.pdf\n",
      "Haftpflichtversicherung  2024.pdf\n",
      "Gebäudeversicherung 2024.pdf\n",
      "Gebäudeversicherung 2023.pdf\n",
      "Haftpflichtversicherung  2023.pdf\n",
      "Gebäudeversicherung 2022.pdf\n",
      "Haftpflichtversicherung  2022.pdf\n",
      "Gebäudeversicherung 2021.pdf\n",
      "Haftpflichtversicherung  2021.pdf\n",
      "Gebäudeversicherung 2020.pdf\n",
      "Haftpflichtversicherung  2020.pdf\n",
      "Haftpflichtvers.neu 2019.pdf\n",
      "['Teilungserklärung + Gemeinschaftsordnung']\n",
      "Miteigentümerordnung_Boderitzer Str. 25, 25a; Gostritzer Weg 2; Börnerweg 1.pdf\n",
      "URNr. 154-1994_Boderitzer Str. 25, 25a; Gostritzer Weg 2; Börnerweg 1.pdf\n",
      "URNr. 168-1996_Boderitzer Str. 25, 25a; Gostritzer Weg 2; Börnerweg 1.pdf\n",
      "URNr. 189-1995_Boderitzer Str. 25, 25a; Gostritzer Weg 2; Börnerweg 1.pdf\n",
      "URNr. 202-1995_Boderitzer Str. 25, 25a; Gostritzer Weg 2; Börnerweg 1.pdf\n",
      "URNr. 234-1994_Boderitzer Str. 25, 25a; Gostritzer Weg 2; Börnerweg 1.pdf\n",
      "URNr. 263-1995_Boderitzer Str. 25, 25a; Gostritzer Weg 2; Börnerweg 1.pdf\n",
      "URNr. 71-1996_Boderitzer Str. 25, 25a; Gostritzer Weg 2; Börnerweg 1.pdf\n",
      "URNr. 99-1996_Boderitzer Str. 25, 25a; Gostritzer Weg 2; Börnerweg 1.pdf\n",
      "['Teilungserklärung + Gemeinschaftsordnung', 'Pläne-Boderitzer Str. 25, 25a; Gostritzer Weg 2; Börnerweg 1']\n",
      "Grundriss DG_Boderitzer 25.pdf\n",
      "Grundriss DG_Boderitzer Straße 25.pdf\n",
      "Grundriss DG_Boderitzer Straße 25a.pdf\n",
      "Grundriss EG+OG_Boderitzer Str. 25, 25a.pdf\n",
      "Grundriss EG_Boderitzer Straße 25, 25a.pdf\n",
      "Grundriss DG Börnerweg 1 nach REKO Brand.pdf\n",
      "Aufteilungsplan_Tiefgarage.pdf\n",
      "Grundriss DG_Börnerweg 1 - Gostritzer Weg 2.pdf\n",
      "Grundriss EG_Börnerweg 1 - Gostritzer Weg 2.pdf\n",
      "Grundriss KG_Börnerweg 1 - Gostritzer Weg 2.pdf\n",
      "Grundriss OG_Börnerweg 1 - Gostritzer Weg 2.pdf\n",
      "['Teilungserklärung + Gemeinschaftsordnung', 'Kostenverteilung Wohnungen - TG']\n",
      "AG Dresden UR II 74-00 Kostenverteilung.pdf\n",
      "2018-12-19 Auskunft RA Leist zu Parkern Boderitzer 25.pdf\n",
      "AG Dresden UR II 99-07 Doppelparker.pdf\n",
      "['Rechtsfälle']\n",
      "AG DD Urteil zu Klage Kostenverteilung TG.pdf\n",
      "Stellungnahme RA Leist vor Beiratssitzung.pdf\n",
      "Verknüpfung beider Klagen zur TG.pdf\n",
      "AG DD UR II 99-07 Doppelparker.pdf\n",
      "Klageerwiderung RA Leist 02.10.2019 Stark u.a..pdf\n",
      "AG DD Verfügung v. 13.09.2019.pdf\n",
      "AG DD Verfügung v. 30.08.2019.pdf\n",
      "Klagebegründung v. 19.08.2019 Stark u.a..pdf\n",
      "Beschlussanfechtung Stark u.a. 15.07.2019.pdf\n",
      "Richterliche Verfügung zur Beschlussanfechtung Stark u.a. v. 30.08.19.pdf\n",
      "Richterliche Anordnung zur Beschlussanfechtung Dorawa u.a. v. 21.08.19.pdf\n",
      "_Protokoll Verhandlungstermin 24.01.2025.pdf\n",
      "_Schreiben RA Leist zum Verhandlungstermin v. 24.01.2025.pdf\n",
      "_AG DD Verfügung v. 09.12.2024.pdf\n",
      "_AG DD Verfügung v. 30.11.2024.pdf\n",
      "_RA Leist Termin- u. Fristverlängerung.pdf\n",
      "_AG DD Verfügung v. 26.11.2024.pdf\n",
      "_Beschlussanfechtung TOP 5 ETV v. 01.10.2024.pdf\n",
      "Schreiben RA Leist zu Urteil Klage Dorawa u.a..pdf\n",
      "Klageerwiderung Berufung RA Leist.pdf\n",
      "Klagebegründung Berufung Jagenburg.pdf\n",
      "Beschlussanfechtung Dorawa u.a. 17.06.2019.pdf\n",
      "Klagebegründung Berufung Streicher.pdf\n",
      "Beschluß LG Dresden 2 T 715-08.pdf\n",
      "['Objektinformationen']\n",
      "Beschlusserfüllung 2022-06.pdf\n",
      "Begehungsbericht 2019-11-08.pdf\n",
      "Begehungsbericht 2022-06-14.pdf\n",
      "Schibli E-CHECK Wohnung.pdf\n",
      "Zensus 2022-Stammblatt B1.pdf\n",
      "Zensus 2022-Stammblatt B25.pdf\n",
      "Zensus 2022-Stammblatt B25a.pdf\n",
      "Zensus 2022-Stammblatt G2.pdf\n",
      "Hausinformation Trinkwasserüberprüfung 2021-22.pdf\n",
      "Beschlusserfüllung 2020-08.pdf\n",
      "Begehungsbericht 2020-06-17.pdf\n",
      "Begehungsbericht 2024-09-16.pdf\n",
      "Eigentümerliste.pdf\n",
      "FBB-Rhizome.pdf\n",
      "Gutachten zu Grün auf TG.pdf\n",
      "Dokumentation RWM Boderitzer Str.25 v. 21.02.2024.pdf\n",
      "Dokumentation RWM Boderitzer Str.25a v. 21.02.2024.pdf\n",
      "Dokumentation RWM Börnerweg 1 v. 09.12.2023.pdf\n",
      "Vertrag Fernsehen.pdf\n",
      "Begehungsbericht 2023-05-25.pdf\n",
      "Protokoll Besprechnung VBR-bezüglich Doppelparker.pdf\n",
      "Beschlusserfüllung 2020-06.pdf\n",
      "Information zur monatlichen Verbrauchsinformation.pdf\n",
      "Begehungsbericht 2020-03-13.pdf\n",
      "['Objektinformationen', 'Parksysteme']\n",
      "Parksysteme-Aufteilung.pdf\n",
      "Sanierung Doppelparker 32-34  31-33 (Stellplatz 32).pdf\n",
      "Sanierung Doppelparker 40-42  39-41  (alle vier Stellplätze).pdf\n",
      "Sanierung Doppelparker 44-46  43-45 ( Stellplatz 44-46-45).pdf\n",
      "Sanierung Doppelparker 48-50  47-49 ( Stellplatz 50 ).pdf\n",
      "Wartungsbericht Doppelparker 2023-06-06.pdf\n",
      "['Objektfotos']\n",
      "['Objektfotos', 'Gostritzer Weg 2']\n",
      "['Objektfotos', 'Börnerweg 1']\n",
      "Börner 1.jpg\n",
      "Börnerweg 1.jpg\n",
      "['Objektfotos', 'Boderitzer Str. 25a']\n",
      "['Objektfotos', 'Boderitzer Str. 25']\n",
      "['Notrufaushänge']\n",
      "Notrufe.pdf\n",
      "['Hausordnung + Tiefgaragenordnung']\n",
      "Hausordnung_Boderitzer Str. 25, 25a, Gostritzerweg 2, Börnerweg 1.pdf\n",
      "['Energieausweis']\n",
      "EAW_Gewerbe Boderitzer 25.pdf\n",
      "EAW_Boderitzer Str. 25_Wohnungen.pdf\n",
      "EAW_Börnerweg 1.pdf\n",
      "EAW_Gostritzer Weg 2.pdf\n",
      "EAW_Boderitzer Str. 25a.pdf\n",
      "['Beschlussprotokolle']\n",
      "2008-07 BP.pdf\n",
      "2009-07 BP.pdf\n",
      "2010-08 BP.pdf\n",
      "2011-10 BP.pdf\n",
      "1997-09 BP.pdf\n",
      "1998-11 BP.pdf\n",
      "1999-10 BP TG.pdf\n",
      "1999-10 BP.pdf\n",
      "2000-05 ao ETV.pdf\n",
      "2000-07 ao ETV.pdf\n",
      "2017-09 BP.pdf\n",
      "2000-10 BP.pdf\n",
      "2016-09 BP.pdf\n",
      "2001-03 BP.pdf\n",
      "2016-10 BP Wiederholungsversammlung.pdf\n",
      "2002-10 BP.pdf\n",
      "2015-08 BP.pdf\n",
      "2003-04 ao EVT.pdf\n",
      "2005-09 BP.pdf\n",
      "2003-11 BP.pdf\n",
      "2014-08 BP.pdf\n",
      "2004-09 BP.pdf\n",
      "2013-09 BP.pdf\n",
      "2012-08 BP ao ETV.pdf\n",
      "2012-06 BP.pdf\n",
      "2006-07 BP.pdf\n",
      "2024-10 BP.pdf\n",
      "2024-06 BP ao ETV.pdf\n",
      "2023-12 BP ao ETV.pdf\n",
      "Beschlussbuch.pdf\n",
      "2023-08 BP.pdf\n",
      "2022-07 BP.pdf\n",
      "2021-07 BP.pdf\n",
      "2020-07 BP.pdf\n",
      "2019-06 BP.pdf\n",
      "2018-06 BP.pdf\n",
      "2006-08 BP.pdf\n",
      "2007-06 BP.pdf\n",
      "['Vermögensübersicht']\n",
      "2023 Bod25-25a, Bö1, GW2.pdf\n",
      "2022 Bod25-25a, Bö1, GW2.pdf\n",
      "['ETV']\n",
      "Information zum Termin ETV 2025.pdf\n"
     ]
    }
   ],
   "source": [
    "for folder in walk_from_top_folder(session, MAIN_FOLDER_ID):\n",
    "    print(folder.path)\n",
    "    for file in folder.files:\n",
    "        print(file.name)"
   ]
  },
  {
   "cell_type": "code",
   "execution_count": null,
   "metadata": {},
   "outputs": [],
   "source": []
  }
 ],
 "metadata": {
  "kernelspec": {
   "display_name": "Python 3",
   "language": "python",
   "name": "python3"
  },
  "language_info": {
   "codemirror_mode": {
    "name": "ipython",
    "version": 3
   },
   "file_extension": ".py",
   "mimetype": "text/x-python",
   "name": "python",
   "nbconvert_exporter": "python",
   "pygments_lexer": "ipython3",
   "version": "3.11.11"
  }
 },
 "nbformat": 4,
 "nbformat_minor": 2
}

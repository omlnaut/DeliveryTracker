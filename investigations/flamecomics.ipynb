{
 "cells": [
  {
   "cell_type": "code",
   "execution_count": 1,
   "metadata": {},
   "outputs": [],
   "source": [
    "import requests"
   ]
  },
  {
   "cell_type": "code",
   "execution_count": 7,
   "metadata": {},
   "outputs": [],
   "source": [
    "r = requests.get(\"https://flamecomics.xyz/series/2\").content.decode()"
   ]
  },
  {
   "cell_type": "code",
   "execution_count": 11,
   "metadata": {},
   "outputs": [],
   "source": [
    "with open ('flame.html', 'w') as f:\n",
    "    f.write(r)\n"
   ]
  },
  {
   "cell_type": "code",
   "execution_count": 14,
   "metadata": {},
   "outputs": [],
   "source": [
    "from bs4 import BeautifulSoup\n",
    "import json\n",
    "\n",
    "soup = BeautifulSoup(r, 'html.parser')\n",
    "script = soup.find('script', attrs={'id': '__NEXT_DATA__', 'type': 'application/json'})\n",
    "data = json.loads(script.contents[0])"
   ]
  },
  {
   "cell_type": "code",
   "execution_count": 22,
   "metadata": {},
   "outputs": [
    {
     "data": {
      "text/plain": [
       "{'chapter_id': 8912,\n",
       " 'series_id': 2,\n",
       " 'chapter': '242.0',\n",
       " 'title': '',\n",
       " 'images': {'0': {'size': 775425,\n",
       "   'type': 'image/jpeg',\n",
       "   'name': 'ORV242 CREDITS.jpg',\n",
       "   'modified': '2024-12-24T16:14:43.198Z',\n",
       "   'width': 1778,\n",
       "   'height': 1000},\n",
       "  '1': {'size': 4078086,\n",
       "   'type': 'image/jpeg',\n",
       "   'name': 'ORV242_1.jpg',\n",
       "   'modified': '2024-12-24T16:14:43.229Z',\n",
       "   'width': 800,\n",
       "   'height': 12676},\n",
       "  '2': {'size': 5401426,\n",
       "   'type': 'image/jpeg',\n",
       "   'name': 'ORV242_2.jpg',\n",
       "   'modified': '2024-12-24T16:14:43.244Z',\n",
       "   'width': 800,\n",
       "   'height': 15072},\n",
       "  '3': {'size': 4537841,\n",
       "   'type': 'image/jpeg',\n",
       "   'name': 'ORV242_3.jpg',\n",
       "   'modified': '2024-12-24T16:14:43.252Z',\n",
       "   'width': 800,\n",
       "   'height': 14185},\n",
       "  '4': {'size': 4997047,\n",
       "   'type': 'image/jpeg',\n",
       "   'name': 'ORV242_4.jpg',\n",
       "   'modified': '2024-12-24T16:14:43.260Z',\n",
       "   'width': 800,\n",
       "   'height': 14944},\n",
       "  '5': {'size': 3659578,\n",
       "   'type': 'image/jpeg',\n",
       "   'name': 'ORV242_5.jpg',\n",
       "   'modified': '2024-12-24T16:14:43.265Z',\n",
       "   'width': 800,\n",
       "   'height': 15072},\n",
       "  '6': {'size': 4371737,\n",
       "   'type': 'image/jpeg',\n",
       "   'name': 'ORV242_6.jpg',\n",
       "   'modified': '2024-12-24T16:14:43.270Z',\n",
       "   'width': 800,\n",
       "   'height': 14017},\n",
       "  '7': {'size': 4156487,\n",
       "   'type': 'image/jpeg',\n",
       "   'name': 'ORV242_7.jpg',\n",
       "   'modified': '2024-12-24T16:14:43.277Z',\n",
       "   'width': 800,\n",
       "   'height': 14371},\n",
       "  '8': {'size': 4025054,\n",
       "   'type': 'image/jpeg',\n",
       "   'name': 'ORV242_8.jpg',\n",
       "   'modified': '2024-12-24T16:14:43.286Z',\n",
       "   'width': 800,\n",
       "   'height': 13501},\n",
       "  '9': {'size': 3506214,\n",
       "   'type': 'image/jpeg',\n",
       "   'name': 'ORV242_9.jpg',\n",
       "   'modified': '2024-12-24T16:14:43.293Z',\n",
       "   'width': 800,\n",
       "   'height': 13750},\n",
       "  '10': {'size': 1444351,\n",
       "   'type': 'image/jpeg',\n",
       "   'name': 'ORV242_10.jpg',\n",
       "   'modified': '2024-12-24T16:14:43.296Z',\n",
       "   'width': 800,\n",
       "   'height': 4481}},\n",
       " 'language': 'English',\n",
       " 'views': 0,\n",
       " 'likes': 0,\n",
       " 'hidden': 0,\n",
       " 'release_date': 1735056883,\n",
       " 'token': '38a1148132b9f5f9',\n",
       " 'unix_timestamp': 1735056883}"
      ]
     },
     "execution_count": 22,
     "metadata": {},
     "output_type": "execute_result"
    }
   ],
   "source": [
    "latest_chapter_element = data['props']['pageProps']['chapters'][0]\n",
    "latest_chapter_element"
   ]
  },
  {
   "cell_type": "code",
   "execution_count": 25,
   "metadata": {},
   "outputs": [
    {
     "data": {
      "text/plain": [
       "(242, 1735056883)"
      ]
     },
     "execution_count": 25,
     "metadata": {},
     "output_type": "execute_result"
    }
   ],
   "source": [
    "int(latest_chapter_element['chapter'].split('.')[0]), latest_chapter_element['release_date']"
   ]
  },
  {
   "cell_type": "code",
   "execution_count": 28,
   "metadata": {},
   "outputs": [
    {
     "data": {
      "text/plain": [
       "datetime.date(2024, 12, 24)"
      ]
     },
     "execution_count": 28,
     "metadata": {},
     "output_type": "execute_result"
    }
   ],
   "source": [
    "from datetime import datetime\n",
    "\n",
    "datetime.fromtimestamp(1735056883).date()"
   ]
  },
  {
   "cell_type": "code",
   "execution_count": null,
   "metadata": {},
   "outputs": [],
   "source": []
  }
 ],
 "metadata": {
  "kernelspec": {
   "display_name": "Python 3",
   "language": "python",
   "name": "python3"
  },
  "language_info": {
   "codemirror_mode": {
    "name": "ipython",
    "version": 3
   },
   "file_extension": ".py",
   "mimetype": "text/x-python",
   "name": "python",
   "nbconvert_exporter": "python",
   "pygments_lexer": "ipython3",
   "version": "3.11.11"
  }
 },
 "nbformat": 4,
 "nbformat_minor": 2
}

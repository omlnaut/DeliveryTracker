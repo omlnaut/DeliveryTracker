{
 "cells": [
  {
   "cell_type": "code",
   "execution_count": 1,
   "metadata": {},
   "outputs": [],
   "source": [
    "import requests"
   ]
  },
  {
   "cell_type": "code",
   "execution_count": 2,
   "metadata": {},
   "outputs": [],
   "source": [
    "r = requests.get(\"https://flamecomics.xyz/series/2\").content.decode()"
   ]
  },
  {
   "cell_type": "code",
   "execution_count": 3,
   "metadata": {},
   "outputs": [],
   "source": [
    "with open ('flame.html', 'w') as f:\n",
    "    f.write(r)\n"
   ]
  },
  {
   "cell_type": "code",
   "execution_count": 4,
   "metadata": {},
   "outputs": [],
   "source": [
    "from bs4 import BeautifulSoup\n",
    "import json\n",
    "\n",
    "soup = BeautifulSoup(r, 'html.parser')\n",
    "script = soup.find('script', attrs={'id': '__NEXT_DATA__', 'type': 'application/json'})\n",
    "data = json.loads(script.contents[0])"
   ]
  },
  {
   "cell_type": "code",
   "execution_count": 5,
   "metadata": {},
   "outputs": [
    {
     "data": {
      "text/plain": [
       "{'chapter_id': 8939,\n",
       " 'series_id': 2,\n",
       " 'chapter': '243.0',\n",
       " 'title': 'Hatching (2)',\n",
       " 'images': {'0': {'size': 827363,\n",
       "   'type': 'image/jpeg',\n",
       "   'name': 'ORV243CREDITS.jpg',\n",
       "   'modified': '2024-12-31T15:31:53.530Z',\n",
       "   'width': 1778,\n",
       "   'height': 1000},\n",
       "  '1': {'size': 2089537,\n",
       "   'type': 'image/jpeg',\n",
       "   'name': 'ORV243_1.1.jpg',\n",
       "   'modified': '2024-12-31T18:04:01.865Z',\n",
       "   'width': 800,\n",
       "   'height': 7863},\n",
       "  '2': {'size': 2367250,\n",
       "   'type': 'image/jpeg',\n",
       "   'name': 'ORV243_1.2.jpg',\n",
       "   'modified': '2024-12-31T18:04:02.059Z',\n",
       "   'width': 800,\n",
       "   'height': 8003},\n",
       "  '3': {'size': 3851868,\n",
       "   'type': 'image/jpeg',\n",
       "   'name': 'ORV243_2.jpg',\n",
       "   'modified': '2024-12-31T15:31:53.570Z',\n",
       "   'width': 800,\n",
       "   'height': 14788},\n",
       "  '4': {'size': 3843496,\n",
       "   'type': 'image/jpeg',\n",
       "   'name': 'ORV243_3.jpg',\n",
       "   'modified': '2024-12-31T15:31:53.579Z',\n",
       "   'width': 800,\n",
       "   'height': 15072},\n",
       "  '5': {'size': 4206450,\n",
       "   'type': 'image/jpeg',\n",
       "   'name': 'ORV243_4.jpg',\n",
       "   'modified': '2024-12-31T15:31:53.595Z',\n",
       "   'width': 800,\n",
       "   'height': 15072},\n",
       "  '6': {'size': 4089313,\n",
       "   'type': 'image/jpeg',\n",
       "   'name': 'ORV243_5.jpg',\n",
       "   'modified': '2024-12-31T15:31:53.605Z',\n",
       "   'width': 800,\n",
       "   'height': 15072},\n",
       "  '7': {'size': 3374755,\n",
       "   'type': 'image/jpeg',\n",
       "   'name': 'ORV243_6.jpg',\n",
       "   'modified': '2024-12-31T15:31:53.613Z',\n",
       "   'width': 800,\n",
       "   'height': 14539},\n",
       "  '8': {'size': 4211841,\n",
       "   'type': 'image/jpeg',\n",
       "   'name': 'ORV243_7.jpg',\n",
       "   'modified': '2024-12-31T15:31:53.639Z',\n",
       "   'width': 800,\n",
       "   'height': 14910},\n",
       "  '9': {'size': 3906979,\n",
       "   'type': 'image/jpeg',\n",
       "   'name': 'ORV243_8.jpg',\n",
       "   'modified': '2024-12-31T15:31:53.652Z',\n",
       "   'width': 800,\n",
       "   'height': 15072},\n",
       "  '10': {'size': 3788899,\n",
       "   'type': 'image/jpeg',\n",
       "   'name': 'ORV243_9.jpg',\n",
       "   'modified': '2024-12-31T15:31:53.669Z',\n",
       "   'width': 800,\n",
       "   'height': 15072},\n",
       "  '11': {'size': 4011336,\n",
       "   'type': 'image/jpeg',\n",
       "   'name': 'ORV243_10.jpg',\n",
       "   'modified': '2024-12-31T15:31:53.677Z',\n",
       "   'width': 800,\n",
       "   'height': 14979},\n",
       "  '12': {'size': 998193,\n",
       "   'type': 'image/jpeg',\n",
       "   'name': 'ORV243_11.jpg',\n",
       "   'modified': '2024-12-31T15:31:53.679Z',\n",
       "   'width': 800,\n",
       "   'height': 3789}},\n",
       " 'language': 'English',\n",
       " 'views': 5696,\n",
       " 'likes': 0,\n",
       " 'hidden': 0,\n",
       " 'release_date': 1735659113,\n",
       " 'token': '83c5b85b446ab21c',\n",
       " 'unix_timestamp': 1735659113}"
      ]
     },
     "execution_count": 5,
     "metadata": {},
     "output_type": "execute_result"
    }
   ],
   "source": [
    "latest_chapter_element = data['props']['pageProps']['chapters'][0]\n",
    "latest_chapter_element"
   ]
  },
  {
   "cell_type": "code",
   "execution_count": 6,
   "metadata": {},
   "outputs": [
    {
     "data": {
      "text/plain": [
       "(243, datetime.date(2024, 12, 31))"
      ]
     },
     "execution_count": 6,
     "metadata": {},
     "output_type": "execute_result"
    }
   ],
   "source": [
    "from datetime import datetime\n",
    "\n",
    "int(latest_chapter_element['chapter'].split('.')[0]), datetime.fromtimestamp(latest_chapter_element['release_date']).date()"
   ]
  },
  {
   "cell_type": "code",
   "execution_count": null,
   "metadata": {},
   "outputs": [],
   "source": []
  }
 ],
 "metadata": {
  "kernelspec": {
   "display_name": "Python 3",
   "language": "python",
   "name": "python3"
  },
  "language_info": {
   "codemirror_mode": {
    "name": "ipython",
    "version": 3
   },
   "file_extension": ".py",
   "mimetype": "text/x-python",
   "name": "python",
   "nbconvert_exporter": "python",
   "pygments_lexer": "ipython3",
   "version": "3.11.11"
  }
 },
 "nbformat": 4,
 "nbformat_minor": 2
}

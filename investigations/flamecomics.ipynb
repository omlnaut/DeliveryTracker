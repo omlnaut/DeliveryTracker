{
 "cells": [
  {
   "cell_type": "code",
   "execution_count": 18,
   "metadata": {},
   "outputs": [],
   "source": [
    "import requests"
   ]
  },
  {
   "cell_type": "code",
   "execution_count": 47,
   "metadata": {},
   "outputs": [],
   "source": [
    "from fp.fp import FreeProxy"
   ]
  },
  {
   "cell_type": "code",
   "execution_count": 48,
   "metadata": {},
   "outputs": [
    {
     "data": {
      "text/plain": [
       "'http://3.90.100.12:80'"
      ]
     },
     "execution_count": 48,
     "metadata": {},
     "output_type": "execute_result"
    }
   ],
   "source": [
    "proxy = FreeProxy(rand=True).get()\n",
    "proxy"
   ]
  },
  {
   "cell_type": "code",
   "execution_count": 41,
   "metadata": {},
   "outputs": [],
   "source": [
    "from bs4 import BeautifulSoup\n",
    "\n",
    "proxy_list = open(\"proxies.txt\", \"r\").read().split(\"\\n\")\n",
    "\n",
    "def _fetch_with_proxy(url: str, headers: dict) -> requests.Response:\n",
    "    for proxy in proxy_list[:100]:\n",
    "        proxy = FreeProxy(rand=True).get()\n",
    "        response = requests.get(url, headers=headers, proxies={\"http\": proxy})\n",
    "\n",
    "        if response.status_code == 200:\n",
    "            html = response.content.decode()\n",
    "            soup = BeautifulSoup(html, \"html.parser\")\n",
    "            script = soup.find(\n",
    "                \"script\", attrs={\"id\": \"__NEXT_DATA__\", \"type\": \"application/json\"}\n",
    "            )\n",
    "            if not script or not script.contents:\n",
    "                continue\n",
    "\n",
    "            return response\n",
    "\n",
    "    raise Exception(f\"Failed to fetch with proxy: {url}\")"
   ]
  },
  {
   "cell_type": "code",
   "execution_count": 42,
   "metadata": {},
   "outputs": [],
   "source": [
    "url = f\"http://flamecomics.xyz/series/2\"\n",
    "headers = {\n",
    "    \"accept\": \"text/html,application/xhtml+xml,application/xml;q=0.9,image/avif,image/webp,image/apng,*/*;q=0.8,application/signed-exchange;v=b3;q=0.7\",\n",
    "    \"accept-language\": \"de-DE,de;q=0.9,en-US;q=0.8,en-DE;q=0.7,en;q=0.6\",\n",
    "    \"cookie\": \"cf_clearance=xBO_P87WodUZXV.8QsJFjQCXHRPclu9bMNxBDVCSkkk-1735678421-1.2.1.1-qHhrc1y.k2AOZwDmPKRgrfKsfQflpOU5RAT3345qHh239Cu.NbvwkpWNYJEo03rgXkvcZ5fhYqnVVuB6dOHj9uQ3HHuWkKfsAsxbka0Bbpub9Qg4xCFgBfOZPV_.50DYiGdsS1hVab7_WMqWe.z9fdu7ubdwl_L9.BvIWR0f_NjNzYgpNunC8YCH1W_ghtX3V_ZefHDeea30HQ23nqGhQWVSTZx7dK_Gks8IwGo9mPQSNjqgxnei9DmvKeVtIZIbEsZ5BIl2MwZ7twi6.B5.7IRzaggNy6_k5Wu8dF2rcfAQvjBzWpFhYuH3R5qGElyOuGWGScVQE3d22q7.D_Ukwd63yHoZA32w0euMRH581Y_zS9q7_ixubTnO_LcwNrvxUGQ.bRWNd5c3Kb6ViOvx5g\",\n",
    "    \"dnt\": \"1\",\n",
    "    \"priority\": \"u=0, i\",\n",
    "    \"sec-ch-ua\": '\"Google Chrome\";v=\"131\", \"Chromium\";v=\"131\", \"Not_A Brand\";v=\"24\"',\n",
    "    \"sec-ch-ua-mobile\": \"?0\",\n",
    "    \"sec-ch-ua-platform\": '\"Windows\"',\n",
    "    \"sec-fetch-dest\": \"document\",\n",
    "    \"sec-fetch-mode\": \"navigate\",\n",
    "    \"sec-fetch-site\": \"none\",\n",
    "    \"sec-fetch-user\": \"?1\",\n",
    "    \"upgrade-insecure-requests\": \"1\",\n",
    "    \"user-agent\": \"Mozilla/5.0 (Windows NT 10.0; Win64; x64) AppleWebKit/537.36 (KHTML, like Gecko) Chrome/131.0.0.0 Safari/537.36\",\n",
    "}\n",
    "response = _fetch_with_proxy(url, headers)\n",
    "html = response.content.decode()"
   ]
  },
  {
   "cell_type": "code",
   "execution_count": 49,
   "metadata": {},
   "outputs": [
    {
     "data": {
      "text/plain": [
       "<Response [200]>"
      ]
     },
     "execution_count": 49,
     "metadata": {},
     "output_type": "execute_result"
    }
   ],
   "source": [
    "r = requests.get(url, headers=headers, proxies={\"http\": proxy})\n",
    "r"
   ]
  },
  {
   "cell_type": "code",
   "execution_count": 50,
   "metadata": {},
   "outputs": [],
   "source": [
    "html = r.content.decode()"
   ]
  },
  {
   "cell_type": "code",
   "execution_count": 52,
   "metadata": {},
   "outputs": [
    {
     "data": {
      "text/plain": [
       "'REMOTE_ADDR = 54.146.164.221\\r\\nREMOTE_PORT = 65387\\r\\nREQUEST_METHOD = GET\\r\\nREQUEST_URI = http://flamecomics.xyz/series/2\\r\\nREQUEST_TIME_FLOAT = 1735755485.000115\\r\\nREQUEST_TIME = 1735755485\\r\\nHTTP_HOST = flamecomics.xyz\\r\\nHTTP_USER-AGENT = Mozilla/5.0 (Windows NT 10.0; Win64; x64) AppleWebKit/537.36 (KHTML, like Gecko) Chrome/131.0.0.0 Safari/537.36\\r\\nHTTP_ACCEPT-ENCODING = gzip, deflate\\r\\nHTTP_ACCEPT = text/html,application/xhtml+xml,application/xml;q=0.9,image/avif,image/webp,image/apng,*/*;q=0.8,application/signed-exchange;v=b3;q=0.7\\r\\nHTTP_CONNECTION = keep-alive\\r\\nHTTP_ACCEPT-LANGUAGE = de-DE,de;q=0.9,en-US;q=0.8,en-DE;q=0.7,en;q=0.6\\r\\nHTTP_COOKIE = cf_clearance=xBO_P87WodUZXV.8QsJFjQCXHRPclu9bMNxBDVCSkkk-1735678421-1.2.1.1-qHhrc1y.k2AOZwDmPKRgrfKsfQflpOU5RAT3345qHh239Cu.NbvwkpWNYJEo03rgXkvcZ5fhYqnVVuB6dOHj9uQ3HHuWkKfsAsxbka0Bbpub9Qg4xCFgBfOZPV_.50DYiGdsS1hVab7_WMqWe.z9fdu7ubdwl_L9.BvIWR0f_NjNzYgpNunC8YCH1W_ghtX3V_ZefHDeea30HQ23nqGhQWVSTZx7dK_Gks8IwGo9mPQSNjqgxnei9DmvKeVtIZIbEsZ5BIl2MwZ7twi6.B5.7IRzaggNy6_k5Wu8dF2rcfAQvjBzWpFhYuH3R5qGElyOuGWGScVQE3d22q7.D_Ukwd63yHoZA32w0euMRH581Y_zS9q7_ixubTnO_LcwNrvxUGQ.bRWNd5c3Kb6ViOvx5g\\r\\nHTTP_DNT = 1\\r\\nHTTP_PRIORITY = u=0, i\\r\\nHTTP_SEC-CH-UA = \"Google Chrome\";v=\"131\", \"Chromium\";v=\"131\", \"Not_A Brand\";v=\"24\"\\r\\nHTTP_SEC-CH-UA-MOBILE = ?0\\r\\nHTTP_SEC-CH-UA-PLATFORM = \"Windows\"\\r\\nHTTP_SEC-FETCH-DEST = document\\r\\nHTTP_SEC-FETCH-MODE = navigate\\r\\nHTTP_SEC-FETCH-SITE = none\\r\\nHTTP_SEC-FETCH-USER = ?1\\r\\nHTTP_UPGRADE-INSECURE-REQUESTS = 1\\r\\n'"
      ]
     },
     "execution_count": 52,
     "metadata": {},
     "output_type": "execute_result"
    }
   ],
   "source": [
    "html"
   ]
  },
  {
   "cell_type": "code",
   "execution_count": 51,
   "metadata": {},
   "outputs": [
    {
     "ename": "AttributeError",
     "evalue": "'NoneType' object has no attribute 'contents'",
     "output_type": "error",
     "traceback": [
      "\u001b[0;31m---------------------------------------------------------------------------\u001b[0m",
      "\u001b[0;31mAttributeError\u001b[0m                            Traceback (most recent call last)",
      "Cell \u001b[0;32mIn[51], line 6\u001b[0m\n\u001b[1;32m      4\u001b[0m soup \u001b[38;5;241m=\u001b[39m BeautifulSoup(html, \u001b[38;5;124m'\u001b[39m\u001b[38;5;124mhtml.parser\u001b[39m\u001b[38;5;124m'\u001b[39m)\n\u001b[1;32m      5\u001b[0m script \u001b[38;5;241m=\u001b[39m soup\u001b[38;5;241m.\u001b[39mfind(\u001b[38;5;124m'\u001b[39m\u001b[38;5;124mscript\u001b[39m\u001b[38;5;124m'\u001b[39m, attrs\u001b[38;5;241m=\u001b[39m{\u001b[38;5;124m'\u001b[39m\u001b[38;5;124mid\u001b[39m\u001b[38;5;124m'\u001b[39m: \u001b[38;5;124m'\u001b[39m\u001b[38;5;124m__NEXT_DATA__\u001b[39m\u001b[38;5;124m'\u001b[39m, \u001b[38;5;124m'\u001b[39m\u001b[38;5;124mtype\u001b[39m\u001b[38;5;124m'\u001b[39m: \u001b[38;5;124m'\u001b[39m\u001b[38;5;124mapplication/json\u001b[39m\u001b[38;5;124m'\u001b[39m})\n\u001b[0;32m----> 6\u001b[0m data \u001b[38;5;241m=\u001b[39m json\u001b[38;5;241m.\u001b[39mloads(\u001b[43mscript\u001b[49m\u001b[38;5;241;43m.\u001b[39;49m\u001b[43mcontents\u001b[49m[\u001b[38;5;241m0\u001b[39m])\n",
      "\u001b[0;31mAttributeError\u001b[0m: 'NoneType' object has no attribute 'contents'"
     ]
    }
   ],
   "source": [
    "from bs4 import BeautifulSoup\n",
    "import json\n",
    "\n",
    "soup = BeautifulSoup(html, 'html.parser')\n",
    "script = soup.find('script', attrs={'id': '__NEXT_DATA__', 'type': 'application/json'})\n",
    "data = json.loads(script.contents[0])"
   ]
  },
  {
   "cell_type": "code",
   "execution_count": 46,
   "metadata": {},
   "outputs": [
    {
     "ename": "KeyError",
     "evalue": "'chapters'",
     "output_type": "error",
     "traceback": [
      "\u001b[0;31m---------------------------------------------------------------------------\u001b[0m",
      "\u001b[0;31mKeyError\u001b[0m                                  Traceback (most recent call last)",
      "Cell \u001b[0;32mIn[46], line 1\u001b[0m\n\u001b[0;32m----> 1\u001b[0m latest_chapter_element \u001b[38;5;241m=\u001b[39m \u001b[43mdata\u001b[49m\u001b[43m[\u001b[49m\u001b[38;5;124;43m'\u001b[39;49m\u001b[38;5;124;43mprops\u001b[39;49m\u001b[38;5;124;43m'\u001b[39;49m\u001b[43m]\u001b[49m\u001b[43m[\u001b[49m\u001b[38;5;124;43m'\u001b[39;49m\u001b[38;5;124;43mpageProps\u001b[39;49m\u001b[38;5;124;43m'\u001b[39;49m\u001b[43m]\u001b[49m\u001b[43m[\u001b[49m\u001b[38;5;124;43m'\u001b[39;49m\u001b[38;5;124;43mchapters\u001b[39;49m\u001b[38;5;124;43m'\u001b[39;49m\u001b[43m]\u001b[49m[\u001b[38;5;241m0\u001b[39m]\n\u001b[1;32m      2\u001b[0m latest_chapter_element\n",
      "\u001b[0;31mKeyError\u001b[0m: 'chapters'"
     ]
    }
   ],
   "source": [
    "latest_chapter_element = data['props']['pageProps']['chapters'][0]\n",
    "latest_chapter_element"
   ]
  },
  {
   "cell_type": "code",
   "execution_count": 40,
   "metadata": {},
   "outputs": [
    {
     "data": {
      "text/plain": [
       "(243, datetime.date(2024, 12, 31))"
      ]
     },
     "execution_count": 40,
     "metadata": {},
     "output_type": "execute_result"
    }
   ],
   "source": [
    "from datetime import datetime\n",
    "\n",
    "int(latest_chapter_element['chapter'].split('.')[0]), datetime.fromtimestamp(latest_chapter_element['release_date']).date()"
   ]
  },
  {
   "cell_type": "code",
   "execution_count": null,
   "metadata": {},
   "outputs": [],
   "source": []
  }
 ],
 "metadata": {
  "kernelspec": {
   "display_name": "Python 3",
   "language": "python",
   "name": "python3"
  },
  "language_info": {
   "codemirror_mode": {
    "name": "ipython",
    "version": 3
   },
   "file_extension": ".py",
   "mimetype": "text/x-python",
   "name": "python",
   "nbconvert_exporter": "python",
   "pygments_lexer": "ipython3",
   "version": "3.11.11"
  }
 },
 "nbformat": 4,
 "nbformat_minor": 2
}

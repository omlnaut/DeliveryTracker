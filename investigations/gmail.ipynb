{
 "cells": [
  {
   "cell_type": "code",
   "execution_count": 1,
   "id": "e0e37f94",
   "metadata": {},
   "outputs": [],
   "source": [
    "%load_ext autoreload\n",
    "%autoreload 2"
   ]
  },
  {
   "cell_type": "code",
   "execution_count": 2,
   "id": "9dc74619",
   "metadata": {},
   "outputs": [],
   "source": [
    "from common import *\n",
    "\n",
    "add_workspace_to_path()\n",
    "\n",
    "from shared.GoogleServices.gmail.service import GmailService"
   ]
  },
  {
   "cell_type": "code",
   "execution_count": 3,
   "id": "fc419059",
   "metadata": {},
   "outputs": [],
   "source": [
    "service = GmailService(load_google_credentials()\n",
    ")\n",
    "service.authenticate()"
   ]
  },
  {
   "cell_type": "code",
   "execution_count": 4,
   "id": "dbb145c4",
   "metadata": {},
   "outputs": [
    {
     "data": {
      "text/plain": [
       "[{'tracking_number': 'JJD000390019334998485',\n",
       "  'pickup_location': '',\n",
       "  'due_date': '27.05.2025',\n",
       "  'preview': 'Pairez Toys Magnetische...'}]"
      ]
     },
     "execution_count": 4,
     "metadata": {},
     "output_type": "execute_result"
    }
   ],
   "source": [
    "service.get_amazon_dhl_pickup_emails(hours=480)"
   ]
  },
  {
   "cell_type": "code",
   "execution_count": null,
   "id": "a875e969",
   "metadata": {},
   "outputs": [],
   "source": []
  }
 ],
 "metadata": {
  "kernelspec": {
   "display_name": "Python 3",
   "language": "python",
   "name": "python3"
  },
  "language_info": {
   "codemirror_mode": {
    "name": "ipython",
    "version": 3
   },
   "file_extension": ".py",
   "mimetype": "text/x-python",
   "name": "python",
   "nbconvert_exporter": "python",
   "pygments_lexer": "ipython3",
   "version": "3.11.11"
  }
 },
 "nbformat": 4,
 "nbformat_minor": 5
}

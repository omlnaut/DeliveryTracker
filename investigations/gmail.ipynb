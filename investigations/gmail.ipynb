{
 "cells": [
  {
   "cell_type": "code",
   "execution_count": 1,
   "id": "e0e37f94",
   "metadata": {},
   "outputs": [],
   "source": [
    "%load_ext autoreload\n",
    "%autoreload 2"
   ]
  },
  {
   "cell_type": "code",
   "execution_count": 2,
   "id": "9dc74619",
   "metadata": {},
   "outputs": [],
   "source": [
    "from common import *\n",
    "\n",
    "add_workspace_to_path()\n",
    "\n",
    "from shared.GoogleServices.gmail.service import GmailService"
   ]
  },
  {
   "cell_type": "code",
   "execution_count": 3,
   "id": "fc419059",
   "metadata": {},
   "outputs": [],
   "source": [
    "service = GmailService(load_google_credentials()\n",
    ")\n",
    "service.authenticate()"
   ]
  },
  {
   "cell_type": "code",
   "execution_count": 18,
   "id": "a875e969",
   "metadata": {},
   "outputs": [
    {
     "data": {
      "text/plain": [
       "'from:rueckgabe@amazon.de after:1749317565 subject:\"Ihre Rücksendung von\"'"
      ]
     },
     "execution_count": 18,
     "metadata": {},
     "output_type": "execute_result"
    }
   ],
   "source": [
    "from datetime import datetime, timedelta, timezone\n",
    "from shared.GoogleServices import GmailQueryBuilder\n",
    "\n",
    "time_threshold = datetime.now(timezone.utc) - timedelta(days=8)\n",
    "\n",
    "query = GmailQueryBuilder().from_email(\"rueckgabe@amazon.de\").after_date(time_threshold).subject(\"Ihre Rücksendung von\").build()\n",
    "query\n"
   ]
  },
  {
   "cell_type": "code",
   "execution_count": 19,
   "id": "dd54c88e",
   "metadata": {},
   "outputs": [],
   "source": [
    "messages = service.query_messages_with_body(query)"
   ]
  },
  {
   "cell_type": "code",
   "execution_count": 20,
   "id": "d28ca003",
   "metadata": {},
   "outputs": [
    {
     "data": {
      "text/plain": [
       "1"
      ]
     },
     "execution_count": 20,
     "metadata": {},
     "output_type": "execute_result"
    }
   ],
   "source": [
    "len(messages)"
   ]
  },
  {
   "cell_type": "code",
   "execution_count": 21,
   "id": "af53d9b2",
   "metadata": {},
   "outputs": [],
   "source": [
    "with open(\"amazon_rueckgabe.html\", \"w\") as f:\n",
    "    f.write(messages[0])"
   ]
  },
  {
   "cell_type": "code",
   "execution_count": null,
   "id": "84e2b3a9",
   "metadata": {},
   "outputs": [],
   "source": []
  }
 ],
 "metadata": {
  "kernelspec": {
   "display_name": "Python 3",
   "language": "python",
   "name": "python3"
  },
  "language_info": {
   "codemirror_mode": {
    "name": "ipython",
    "version": 3
   },
   "file_extension": ".py",
   "mimetype": "text/x-python",
   "name": "python",
   "nbconvert_exporter": "python",
   "pygments_lexer": "ipython3",
   "version": "3.11.11"
  }
 },
 "nbformat": 4,
 "nbformat_minor": 5
}
